{
  "cells": [
    {
      "cell_type": "markdown",
      "metadata": {
        "id": "H6WT8hTfenmr"
      },
      "source": [
        "# Trabalho 01 - TT003A\n",
        "## Professor: Ulisses Martins Dias\n",
        "## Integrantes:\n",
        "- Bruno Ricardo Corrêa - 260759\n",
        "- Vinícius Iutaka Nogueira Fujioka - 260933"
      ]
    },
    {
      "cell_type": "markdown",
      "metadata": {
        "id": "sPcZUsM8fJGA"
      },
      "source": [
        "Enunciado (remover depois):\n",
        "\n",
        "Neste trabalho, você deve mostrar que consegue utilizar redes neurais em um cenário de aprendizado supervisionado básico. Neste trabalho, você não receberá um notebook como ponto de partida, mas deverá construir um do zero, de preferência usando códigos vistos em sala de aula. Existe um grupo de videoaulas sobre o banco de dados iris e sobre o banco de dados titanic que devem lhe ajudar a resolver este trabalho sem maiores problemas.\n",
        "\n",
        "Neste trabalho, você deverá escolher um banco de dados no kaggle ou em qualquer lugar da internet. Dê preferência para dados já estruturados de forma tabular, evitando o uso de bancos de dados de imagens, por exemplo. Existe vários formatos de dados nesse formato na internet. Feito isso, você deverá selecionar que tipo de problema está tratando: classificação binária, multiclasse, ou regressão para resolver o problema de forma apropriada.\n",
        "\n",
        "Vale lembrar que você deverá separar o seu conjunto de dados em treino e teste para que seja possível, ao final, computar um valor de acurácia.\n",
        "\n",
        "Nesta atividade, você será avaliado da seguinte forma:\n",
        "1.   Consegue apresentar o banco de dados e explicar o cenário.\n",
        "2.   Consegue processar os dados de entrada de modo a ser possível inserir na rede neural as entradas (tratar missing values e converter valores para dados numéricos).\n",
        "3. Consegue criar uma rede neural usando o método de herança de nn.Module.\n",
        "4. Consegue escolher uma função de custo adequada. Se você escolher uma função de custo que não condiz com o problema, então será descontado os seus pontos neste item, mesmo que o treinamento convirja.\n",
        "5. Consegue utilizar um otimizador qualquer da biblioteca PyTorch. Se você errar no uso do otimizador, então será descontado os seus pontos neste item, mesmo que o treinamento convirja.\n",
        "6. Consegue utilizar Mini-Batches.\n",
        "7. Consegue computar uma acurácia com o banco de dados de teste.\n",
        "8. Consegue gerar um modelo em que a acurácia é melhor do que o que seria obtido ao acaso."
      ]
    },
    {
      "cell_type": "markdown",
      "metadata": {
        "id": "Lsbv2er9gglo"
      },
      "source": [
        "Atividades:\n",
        "- Escolher database no kaggle ou outro lugar com dados tabulares.\n",
        "    - dataset escolhido: [https://www.kaggle.com/datasets/rashikrahmanpritom/heart-attack-analysis-prediction-dataset](https://www.kaggle.com/datasets/rashikrahmanpritom/heart-attack-analysis-prediction-dataset)\n",
        "    - Dados presentes no dataset:\n",
        "        - age: idade do paciente\n",
        "        - sex: sexo do paciente (1 = masculino; 0 = feminino)\n",
        "        - exang: angina induzida por exercício (1 = sim; 0 = não)\n",
        "        - caa: número de grandes vasos (0-3) coloridos por fluoroscopia\n",
        "        - cp: tipo de dor no peito (1 = angina típica; 2 = angina atípica; 3 = dor não anginal; 0 = assintomática)\n",
        "        - trtbps: pressão sanguínea em repouso em mmHg\n",
        "        - chol: colesterol sérico em mg/dl\n",
        "        - fbs: açúcar no sangue em jejum > 120 mg/dl (1 = verdadeiro; 0 = falso)\n",
        "        - restecg: resultados eletrocardiográficos em repouso (0 = hipertrofia ventricular; 1 = normal; 2 = anormalidade da onda ST-T)\n",
        "        - thalachh: frequência cardíaca máxima alcançada\n",
        "        - oldpeak: depressão do segmento ST induzida pelo exercício em relação ao repouso\n",
        "        - slp: inclinação do segmento ST de pico do exercício (0 = descendente; 1 = plano; 2 = ascendente)\n",
        "        - thall: talassemia (0 = normal; 1 = defeito fixo; 2 = defeito reversível)\n",
        "        - output: 0 = menos chance de ataque cardíaco; 1 = mais chance de ataque cardíaco\n",
        "\n",
        "- Selecionar que tipo de problema está tratando: classificação binária, multiclasse, ou regressão para resolver o problema de forma apropriada.\n",
        "    - classificação binária: prever se um paciente tem uma disposição maior a sofrer um ataque cardíaco ou não.\n",
        "    - Dados utilizados: \n",
        "        - age: idade do paciente\n",
        "        - cp: tipo de dor no peito (1 = angina típica; 2 = angina atípica; 3 = dor não anginal; 0 = assintomática) \n",
        "        - trtbps: pressão sanguínea em repouso em mmHg \n",
        "        - chol: colesterol sérico em mg/dl \n",
        "        - fbs: açúcar no sangue em jejum > 120 mg/dl (1 = verdadeiro e 0 = falso) \n",
        "        - restecg: resultados eletrocardiográficos em repouso (1 = normal; 2 = anormalidade da onda ST-T; 0 = hipertrofia ventricular) \n",
        "        - thalachh: frequência cardíaca máxima alcançada \n",
        "        - exang: angina induzida por exercício (1 = sim e 0 = não) \n",
        "        - oldpeak: depressão do segmento ST induzida pelo exercício em relação ao repouso \n",
        "        - slp: inclinação do segmento ST de pico do exercício (2 = ascendente; 1 = plano; 0 = descendente) \n",
        "        - caa: número de grandes vasos (0-3) coloridos por fluoroscopia \n",
        "        - thall: talassemia (2 = normal; 1 = defeito fixo; 3 = defeito reversível).\n",
        "\n",
        "\n",
        "(Fluoroscopia é o exame que se usa radiação ionizante para verificar o funcionamento em tempo real de órgãos internos do corpo humano, e pode-se adicionar contraste para melhorar a visualização e detectar entupimentos em vasos sanguíneos, no caso do dataset em questão, os vasos sanguíneos do coração.)\n",
        "\n",
        "- Separar o seu conjunto de dados em treino e teste para que seja possível, ao final, computar um valor de acurácia.\n",
        "    - 80% dos dados para treino e 20% para teste."
      ]
    },
    {
      "cell_type": "code",
      "execution_count": 1,
      "metadata": {
        "id": "Sopa0FueeglW"
      },
      "outputs": [],
      "source": [
        "import pandas as pd\n",
        "import matplotlib.pyplot as plt\n",
        "import seaborn as sns\n",
        "import torch\n",
        "import torch.nn as nn\n",
        "import random"
      ]
    },
    {
      "cell_type": "code",
      "execution_count": 2,
      "metadata": {
        "id": "f58me4Ydi3Kz"
      },
      "outputs": [],
      "source": [
        "df = pd.read_csv('heart.csv')\n",
        "\n",
        "train = df.sample(frac=0.8, random_state=35)\n",
        "test = df.drop(train.index)"
      ]
    },
    {
      "cell_type": "code",
      "execution_count": 3,
      "metadata": {
        "colab": {
          "base_uri": "https://localhost:8080/",
          "height": 1000
        },
        "id": "PCygKfHr7hzL",
        "outputId": "a995f436-7a71-4dbd-d67c-3cdd0f2091ef"
      },
      "outputs": [
        {
          "data": {
            "text/html": [
              "<div>\n",
              "<style scoped>\n",
              "    .dataframe tbody tr th:only-of-type {\n",
              "        vertical-align: middle;\n",
              "    }\n",
              "\n",
              "    .dataframe tbody tr th {\n",
              "        vertical-align: top;\n",
              "    }\n",
              "\n",
              "    .dataframe thead th {\n",
              "        text-align: right;\n",
              "    }\n",
              "</style>\n",
              "<table border=\"1\" class=\"dataframe\">\n",
              "  <thead>\n",
              "    <tr style=\"text-align: right;\">\n",
              "      <th></th>\n",
              "      <th>age</th>\n",
              "      <th>sex</th>\n",
              "      <th>cp</th>\n",
              "      <th>trtbps</th>\n",
              "      <th>chol</th>\n",
              "      <th>fbs</th>\n",
              "      <th>restecg</th>\n",
              "      <th>thalachh</th>\n",
              "      <th>exng</th>\n",
              "      <th>oldpeak</th>\n",
              "      <th>slp</th>\n",
              "      <th>caa</th>\n",
              "      <th>thall</th>\n",
              "      <th>output</th>\n",
              "    </tr>\n",
              "  </thead>\n",
              "  <tbody>\n",
              "    <tr>\n",
              "      <th>count</th>\n",
              "      <td>242.000000</td>\n",
              "      <td>242.000000</td>\n",
              "      <td>242.000000</td>\n",
              "      <td>242.000000</td>\n",
              "      <td>242.00000</td>\n",
              "      <td>242.00000</td>\n",
              "      <td>242.000000</td>\n",
              "      <td>242.000000</td>\n",
              "      <td>242.000000</td>\n",
              "      <td>242.000000</td>\n",
              "      <td>242.000000</td>\n",
              "      <td>242.000000</td>\n",
              "      <td>242.000000</td>\n",
              "      <td>242.000000</td>\n",
              "    </tr>\n",
              "    <tr>\n",
              "      <th>mean</th>\n",
              "      <td>54.243802</td>\n",
              "      <td>0.669421</td>\n",
              "      <td>0.954545</td>\n",
              "      <td>131.545455</td>\n",
              "      <td>245.50000</td>\n",
              "      <td>0.14876</td>\n",
              "      <td>0.533058</td>\n",
              "      <td>149.508264</td>\n",
              "      <td>0.342975</td>\n",
              "      <td>0.999587</td>\n",
              "      <td>1.400826</td>\n",
              "      <td>0.698347</td>\n",
              "      <td>2.301653</td>\n",
              "      <td>0.566116</td>\n",
              "    </tr>\n",
              "    <tr>\n",
              "      <th>std</th>\n",
              "      <td>9.167554</td>\n",
              "      <td>0.471396</td>\n",
              "      <td>1.027627</td>\n",
              "      <td>18.363323</td>\n",
              "      <td>47.62764</td>\n",
              "      <td>0.35659</td>\n",
              "      <td>0.524248</td>\n",
              "      <td>22.985697</td>\n",
              "      <td>0.475687</td>\n",
              "      <td>1.166386</td>\n",
              "      <td>0.624931</td>\n",
              "      <td>1.040626</td>\n",
              "      <td>0.621133</td>\n",
              "      <td>0.496637</td>\n",
              "    </tr>\n",
              "    <tr>\n",
              "      <th>min</th>\n",
              "      <td>29.000000</td>\n",
              "      <td>0.000000</td>\n",
              "      <td>0.000000</td>\n",
              "      <td>94.000000</td>\n",
              "      <td>131.00000</td>\n",
              "      <td>0.00000</td>\n",
              "      <td>0.000000</td>\n",
              "      <td>71.000000</td>\n",
              "      <td>0.000000</td>\n",
              "      <td>0.000000</td>\n",
              "      <td>0.000000</td>\n",
              "      <td>0.000000</td>\n",
              "      <td>0.000000</td>\n",
              "      <td>0.000000</td>\n",
              "    </tr>\n",
              "    <tr>\n",
              "      <th>25%</th>\n",
              "      <td>47.250000</td>\n",
              "      <td>0.000000</td>\n",
              "      <td>0.000000</td>\n",
              "      <td>120.000000</td>\n",
              "      <td>211.00000</td>\n",
              "      <td>0.00000</td>\n",
              "      <td>0.000000</td>\n",
              "      <td>133.000000</td>\n",
              "      <td>0.000000</td>\n",
              "      <td>0.000000</td>\n",
              "      <td>1.000000</td>\n",
              "      <td>0.000000</td>\n",
              "      <td>2.000000</td>\n",
              "      <td>0.000000</td>\n",
              "    </tr>\n",
              "    <tr>\n",
              "      <th>50%</th>\n",
              "      <td>55.000000</td>\n",
              "      <td>1.000000</td>\n",
              "      <td>1.000000</td>\n",
              "      <td>130.000000</td>\n",
              "      <td>239.50000</td>\n",
              "      <td>0.00000</td>\n",
              "      <td>1.000000</td>\n",
              "      <td>153.000000</td>\n",
              "      <td>0.000000</td>\n",
              "      <td>0.600000</td>\n",
              "      <td>1.000000</td>\n",
              "      <td>0.000000</td>\n",
              "      <td>2.000000</td>\n",
              "      <td>1.000000</td>\n",
              "    </tr>\n",
              "    <tr>\n",
              "      <th>75%</th>\n",
              "      <td>61.000000</td>\n",
              "      <td>1.000000</td>\n",
              "      <td>2.000000</td>\n",
              "      <td>140.000000</td>\n",
              "      <td>273.75000</td>\n",
              "      <td>0.00000</td>\n",
              "      <td>1.000000</td>\n",
              "      <td>165.000000</td>\n",
              "      <td>1.000000</td>\n",
              "      <td>1.600000</td>\n",
              "      <td>2.000000</td>\n",
              "      <td>1.000000</td>\n",
              "      <td>3.000000</td>\n",
              "      <td>1.000000</td>\n",
              "    </tr>\n",
              "    <tr>\n",
              "      <th>max</th>\n",
              "      <td>77.000000</td>\n",
              "      <td>1.000000</td>\n",
              "      <td>3.000000</td>\n",
              "      <td>200.000000</td>\n",
              "      <td>417.00000</td>\n",
              "      <td>1.00000</td>\n",
              "      <td>2.000000</td>\n",
              "      <td>202.000000</td>\n",
              "      <td>1.000000</td>\n",
              "      <td>6.200000</td>\n",
              "      <td>2.000000</td>\n",
              "      <td>4.000000</td>\n",
              "      <td>3.000000</td>\n",
              "      <td>1.000000</td>\n",
              "    </tr>\n",
              "  </tbody>\n",
              "</table>\n",
              "</div>"
            ],
            "text/plain": [
              "              age         sex          cp      trtbps       chol        fbs  \\\n",
              "count  242.000000  242.000000  242.000000  242.000000  242.00000  242.00000   \n",
              "mean    54.243802    0.669421    0.954545  131.545455  245.50000    0.14876   \n",
              "std      9.167554    0.471396    1.027627   18.363323   47.62764    0.35659   \n",
              "min     29.000000    0.000000    0.000000   94.000000  131.00000    0.00000   \n",
              "25%     47.250000    0.000000    0.000000  120.000000  211.00000    0.00000   \n",
              "50%     55.000000    1.000000    1.000000  130.000000  239.50000    0.00000   \n",
              "75%     61.000000    1.000000    2.000000  140.000000  273.75000    0.00000   \n",
              "max     77.000000    1.000000    3.000000  200.000000  417.00000    1.00000   \n",
              "\n",
              "          restecg    thalachh        exng     oldpeak         slp         caa  \\\n",
              "count  242.000000  242.000000  242.000000  242.000000  242.000000  242.000000   \n",
              "mean     0.533058  149.508264    0.342975    0.999587    1.400826    0.698347   \n",
              "std      0.524248   22.985697    0.475687    1.166386    0.624931    1.040626   \n",
              "min      0.000000   71.000000    0.000000    0.000000    0.000000    0.000000   \n",
              "25%      0.000000  133.000000    0.000000    0.000000    1.000000    0.000000   \n",
              "50%      1.000000  153.000000    0.000000    0.600000    1.000000    0.000000   \n",
              "75%      1.000000  165.000000    1.000000    1.600000    2.000000    1.000000   \n",
              "max      2.000000  202.000000    1.000000    6.200000    2.000000    4.000000   \n",
              "\n",
              "            thall      output  \n",
              "count  242.000000  242.000000  \n",
              "mean     2.301653    0.566116  \n",
              "std      0.621133    0.496637  \n",
              "min      0.000000    0.000000  \n",
              "25%      2.000000    0.000000  \n",
              "50%      2.000000    1.000000  \n",
              "75%      3.000000    1.000000  \n",
              "max      3.000000    1.000000  "
            ]
          },
          "execution_count": 3,
          "metadata": {},
          "output_type": "execute_result"
        }
      ],
      "source": [
        "train.describe(include='all')"
      ]
    },
    {
      "cell_type": "code",
      "execution_count": 4,
      "metadata": {},
      "outputs": [
        {
          "data": {
            "text/plain": [
              "array([0, 0, 0, 0, 1, 1, 0, 1, 1, 1, 1, 1, 0, 1, 1, 1, 1, 1, 1, 1, 1, 1,\n",
              "       1, 0, 1, 0, 0, 1, 1, 1, 1, 1, 1, 0, 1, 1, 0, 0, 0, 0, 0, 0, 1, 0,\n",
              "       0, 0, 0, 0, 1, 0, 1, 0, 1, 1, 1, 1, 1, 0, 0, 1, 0, 1, 0, 0, 0, 0,\n",
              "       1, 0, 1, 0, 1, 1, 0, 0, 1, 0, 0, 1, 0, 1, 1, 1, 1, 1, 1, 0, 1, 0,\n",
              "       0, 0, 0, 1, 1, 0, 0, 1, 1, 0, 0, 1, 0, 1, 1, 1, 0, 0, 1, 0, 1, 1,\n",
              "       0, 1, 0, 1, 1, 1, 0, 1, 1, 0, 0, 1, 0, 1, 1, 1, 0, 0, 0, 1, 0, 1,\n",
              "       1, 1, 1, 1, 1, 1, 0, 0, 0, 1, 0, 0, 0, 0, 1, 0, 1, 0, 0, 0, 1, 0,\n",
              "       0, 1, 1, 0, 1, 1, 1, 0, 1, 0, 0, 1, 1, 0, 1, 0, 1, 1, 0, 1, 1, 0,\n",
              "       0, 1, 1, 0, 1, 1, 0, 1, 0, 1, 1, 0, 0, 1, 1, 0, 1, 1, 0, 0, 0, 1,\n",
              "       1, 0, 1, 0, 1, 1, 0, 1, 0, 1, 1, 1, 0, 1, 1, 1, 1, 1, 0, 1, 0, 0,\n",
              "       1, 1, 1, 1, 1, 0, 1, 0, 1, 1, 1, 1, 1, 1, 1, 1, 0, 0, 1, 0, 1, 0])"
            ]
          },
          "execution_count": 4,
          "metadata": {},
          "output_type": "execute_result"
        }
      ],
      "source": [
        "x_train = train.loc[:, ['age', 'cp', 'trtbps', 'chol', 'fbs', 'restecg', 'thalachh', 'exng', 'oldpeak', 'slp', 'caa', 'thall']]\n",
        "x_test = test.loc[:, ['age', 'cp', 'trtbps', 'chol', 'fbs', 'restecg', 'thalachh', 'exng', 'oldpeak', 'slp', 'caa', 'thall']]\n",
        "        \n",
        "y_train = train.output.values\n",
        "y_test = test.output.values\n",
        "\n",
        "y_train"
      ]
    },
    {
      "cell_type": "code",
      "execution_count": 5,
      "metadata": {},
      "outputs": [],
      "source": [
        "x_train = torch.tensor(x_train.values, dtype=torch.float)\n",
        "x_test = torch.tensor(x_test.values, dtype=torch.float)\n",
        "\n",
        "y_train = torch.tensor(y_train, dtype=torch.long)\n",
        "y_test = torch.tensor(y_test, dtype=torch.long)"
      ]
    },
    {
      "cell_type": "code",
      "execution_count": 6,
      "metadata": {},
      "outputs": [],
      "source": [
        "maximo = x_train.max(dim=0).values\n",
        "minimo = x_train.min(dim=0).values\n",
        "\n",
        "x_train = (x_train - minimo) / (maximo - minimo)\n",
        "x_test = (x_test - minimo) / (maximo - minimo)"
      ]
    },
    {
      "cell_type": "code",
      "execution_count": 7,
      "metadata": {},
      "outputs": [
        {
          "data": {
            "text/plain": [
              "(tensor([[0.5833, 0.3333, 0.3396,  ..., 0.5000, 0.2500, 0.6667],\n",
              "         [0.6458, 0.0000, 0.2170,  ..., 1.0000, 0.5000, 1.0000],\n",
              "         [0.5208, 0.0000, 0.1509,  ..., 0.5000, 0.2500, 1.0000],\n",
              "         ...,\n",
              "         [0.5417, 0.0000, 0.4340,  ..., 0.0000, 0.0000, 1.0000],\n",
              "         [0.3542, 0.0000, 0.4151,  ..., 0.5000, 0.0000, 0.6667],\n",
              "         [0.3958, 0.0000, 0.2830,  ..., 0.5000, 0.0000, 1.0000]]),\n",
              " tensor([0, 0, 0, 0, 1, 1, 0, 1, 1, 1, 1, 1, 0, 1, 1, 1, 1, 1, 1, 1, 1, 1, 1, 0,\n",
              "         1, 0, 0, 1, 1, 1, 1, 1, 1, 0, 1, 1, 0, 0, 0, 0, 0, 0, 1, 0, 0, 0, 0, 0,\n",
              "         1, 0, 1, 0, 1, 1, 1, 1, 1, 0, 0, 1, 0, 1, 0, 0, 0, 0, 1, 0, 1, 0, 1, 1,\n",
              "         0, 0, 1, 0, 0, 1, 0, 1, 1, 1, 1, 1, 1, 0, 1, 0, 0, 0, 0, 1, 1, 0, 0, 1,\n",
              "         1, 0, 0, 1, 0, 1, 1, 1, 0, 0, 1, 0, 1, 1, 0, 1, 0, 1, 1, 1, 0, 1, 1, 0,\n",
              "         0, 1, 0, 1, 1, 1, 0, 0, 0, 1, 0, 1, 1, 1, 1, 1, 1, 1, 0, 0, 0, 1, 0, 0,\n",
              "         0, 0, 1, 0, 1, 0, 0, 0, 1, 0, 0, 1, 1, 0, 1, 1, 1, 0, 1, 0, 0, 1, 1, 0,\n",
              "         1, 0, 1, 1, 0, 1, 1, 0, 0, 1, 1, 0, 1, 1, 0, 1, 0, 1, 1, 0, 0, 1, 1, 0,\n",
              "         1, 1, 0, 0, 0, 1, 1, 0, 1, 0, 1, 1, 0, 1, 0, 1, 1, 1, 0, 1, 1, 1, 1, 1,\n",
              "         0, 1, 0, 0, 1, 1, 1, 1, 1, 0, 1, 0, 1, 1, 1, 1, 1, 1, 1, 1, 0, 0, 1, 0,\n",
              "         1, 0]))"
            ]
          },
          "execution_count": 7,
          "metadata": {},
          "output_type": "execute_result"
        }
      ],
      "source": [
        "x_train, y_train"
      ]
    },
    {
      "cell_type": "code",
      "execution_count": 8,
      "metadata": {},
      "outputs": [
        {
          "data": {
            "text/plain": [
              "(tensor([[ 0.2500,  0.3333,  0.3396,  0.2552,  0.0000,  0.0000,  0.7710,  0.0000,\n",
              "           0.2258,  1.0000,  0.0000,  0.6667],\n",
              "         [ 0.5833,  0.6667,  0.5283,  0.1294,  0.0000,  0.5000,  0.7863,  0.0000,\n",
              "           0.2581,  1.0000,  0.0000,  0.6667],\n",
              "         [ 0.2917,  0.0000,  0.5283,  0.4056,  0.0000,  0.5000,  0.7634,  0.0000,\n",
              "           0.2419,  1.0000,  0.0000,  0.6667],\n",
              "         [ 0.8333,  1.0000,  0.4340,  0.3776,  0.0000,  0.5000,  0.6107,  0.0000,\n",
              "           0.2903,  1.0000,  0.5000,  0.6667],\n",
              "         [ 0.5000,  0.6667,  0.3396,  0.2308,  1.0000,  0.0000,  0.6183,  0.0000,\n",
              "           0.1935,  0.0000,  0.0000,  0.6667],\n",
              "         [ 0.5208,  0.6667,  0.2925,  0.4965,  0.0000,  0.0000,  0.6183,  0.0000,\n",
              "           0.0806,  0.0000,  0.2500,  0.6667],\n",
              "         [ 0.4792,  0.3333,  0.2453,  0.6783,  0.0000,  0.5000,  0.7710,  0.0000,\n",
              "           0.0323,  1.0000,  0.0000,  0.6667],\n",
              "         [ 0.4792,  0.3333,  0.3774,  0.2448,  0.0000,  0.5000,  0.6641,  0.0000,\n",
              "           0.1290,  1.0000,  0.2500,  0.6667],\n",
              "         [ 0.3333,  0.0000,  0.1981,  0.4510,  0.0000,  0.0000,  0.8702,  0.0000,\n",
              "           0.0000,  1.0000,  0.0000,  0.6667],\n",
              "         [ 0.5833,  0.0000,  0.3208,  0.6014,  0.0000,  0.0000,  0.6718,  0.0000,\n",
              "           0.0000,  1.0000,  0.2500,  0.6667],\n",
              "         [ 0.4583,  0.6667,  0.2925,  0.3986,  1.0000,  0.0000,  0.7252,  0.0000,\n",
              "           0.3871,  0.5000,  0.0000,  0.6667],\n",
              "         [ 0.6458,  0.6667,  0.0755,  0.6538,  0.0000,  0.5000,  0.6794,  0.0000,\n",
              "           0.0000,  1.0000,  0.2500,  0.6667],\n",
              "         [ 0.7917,  0.6667,  0.1981,  1.5140,  0.0000,  0.0000,  0.6794,  0.0000,\n",
              "           0.2581,  0.5000,  0.0000,  1.0000],\n",
              "         [ 0.5208,  0.3333,  0.3585,  0.5490,  1.0000,  0.0000,  0.6718,  1.0000,\n",
              "           0.0000,  1.0000,  0.2500,  0.6667],\n",
              "         [ 0.2708,  1.0000,  0.5094,  0.3951,  0.0000,  0.0000,  0.8168,  0.0000,\n",
              "           0.1290,  1.0000,  0.5000,  0.6667],\n",
              "         [ 0.5833,  0.6667,  0.5283, -0.0175,  1.0000,  0.5000,  0.7786,  0.0000,\n",
              "           0.0323,  1.0000,  0.2500,  1.0000],\n",
              "         [ 0.4167,  0.3333,  0.3774,  0.4895,  0.0000,  0.5000,  0.6947,  0.0000,\n",
              "           0.0000,  0.5000,  0.0000,  0.6667],\n",
              "         [ 0.2500,  0.3333,  0.3019,  0.6119,  0.0000,  0.5000,  0.7023,  0.0000,\n",
              "           0.0000,  1.0000,  0.0000,  0.6667],\n",
              "         [ 0.7292,  0.0000,  0.3208,  0.4615,  0.0000,  0.5000,  0.2595,  1.0000,\n",
              "           0.0323,  0.5000,  0.2500,  1.0000],\n",
              "         [ 0.9792,  0.6667,  0.4340,  0.2308,  0.0000,  1.0000,  0.3435,  0.0000,\n",
              "           0.1774,  0.5000,  0.0000,  0.6667],\n",
              "         [ 0.6458,  1.0000,  0.5283,  0.3811,  0.0000,  0.5000,  0.7634,  0.0000,\n",
              "           0.1452,  1.0000,  0.0000,  0.6667],\n",
              "         [ 0.3125,  0.6667,  0.2453,  0.3322,  0.0000,  0.5000,  0.7481,  0.0000,\n",
              "           0.0000,  1.0000,  0.0000,  0.6667],\n",
              "         [ 0.2708,  0.6667,  0.3396,  0.1713,  0.0000,  0.5000,  0.6031,  0.0000,\n",
              "           0.0000,  1.0000,  0.0000,  0.6667],\n",
              "         [ 0.8750,  0.0000,  0.1698,  0.0629,  0.0000,  0.5000,  0.4122,  0.0000,\n",
              "           0.2581,  0.5000,  0.0000,  0.6667],\n",
              "         [ 0.2083,  0.6667,  0.4151,  0.3112,  0.0000,  0.5000,  0.6183,  0.0000,\n",
              "           0.0000,  0.5000,  0.0000,  0.6667],\n",
              "         [ 0.3750,  0.6667,  0.3396,  0.4266,  0.0000,  0.5000,  0.8244,  0.0000,\n",
              "           0.0000,  1.0000,  0.0000,  0.6667],\n",
              "         [ 0.5625,  0.3333,  0.2453,  0.3811,  0.0000,  0.5000,  0.7481,  0.0000,\n",
              "           0.0000,  0.0000,  0.0000,  0.6667],\n",
              "         [ 0.2500,  0.3333,  0.2453,  0.0909,  0.0000,  0.5000,  0.8473,  0.0000,\n",
              "           0.0000,  1.0000,  0.0000,  0.6667],\n",
              "         [ 0.5625,  0.6667,  0.3396,  0.4371,  1.0000,  0.0000,  0.5420,  1.0000,\n",
              "           0.0968,  0.5000,  0.2500,  0.3333],\n",
              "         [ 0.6042,  0.3333,  0.2453,  0.5350,  0.0000,  0.0000,  0.6794,  0.0000,\n",
              "           0.2903,  0.5000,  0.0000,  0.6667],\n",
              "         [ 0.6042,  0.6667,  0.3585,  0.3252,  0.0000,  0.0000,  0.7786,  0.0000,\n",
              "           0.5161,  1.0000,  0.5000,  1.0000],\n",
              "         [ 0.6042,  0.6667,  0.1698,  0.3462,  0.0000,  0.0000,  0.7176,  0.0000,\n",
              "           0.4032,  0.5000,  0.2500,  1.0000],\n",
              "         [ 0.4375,  0.0000,  0.5283,  0.3916,  0.0000,  0.0000,  0.4351,  0.0000,\n",
              "           0.4194,  0.5000,  0.0000,  1.0000],\n",
              "         [ 0.2500,  0.0000,  0.1509,  0.1434,  0.0000,  0.0000,  0.6641,  0.0000,\n",
              "           0.0000,  1.0000,  0.0000,  1.0000],\n",
              "         [ 0.4583,  0.0000,  0.3396,  0.6084,  0.0000,  0.5000,  0.5420,  1.0000,\n",
              "           0.1935,  0.5000,  0.0000,  1.0000],\n",
              "         [ 0.5208,  0.0000,  0.2453,  0.1993,  0.0000,  0.5000,  0.3206,  0.0000,\n",
              "           0.2258,  0.5000,  0.2500,  1.0000],\n",
              "         [ 0.3542,  0.6667,  0.5283,  0.3497,  0.0000,  0.5000,  0.5802,  0.0000,\n",
              "           0.5806,  0.5000,  0.0000,  0.6667],\n",
              "         [ 0.3125,  0.0000,  0.1509,  0.2308,  0.0000,  0.0000,  0.8092,  0.0000,\n",
              "           0.0000,  1.0000,  0.2500,  0.6667],\n",
              "         [ 0.6458,  0.0000,  0.2925,  0.4441,  0.0000,  0.0000,  0.5344,  1.0000,\n",
              "           0.4516,  0.5000,  0.2500,  1.0000],\n",
              "         [ 0.6042,  0.0000,  0.5283,  0.4860,  0.0000,  0.0000,  0.3053,  1.0000,\n",
              "           0.1290,  1.0000,  0.0000,  1.0000],\n",
              "         [ 0.6875,  0.6667,  0.3396,  0.4615,  0.0000,  0.5000,  0.1985,  0.0000,\n",
              "           0.1935,  0.5000,  0.2500,  1.0000],\n",
              "         [ 0.7500,  1.0000,  0.4151,  0.5280,  1.0000,  0.0000,  0.7863,  0.0000,\n",
              "           0.2258,  0.5000,  0.2500,  0.6667],\n",
              "         [ 0.5417,  0.0000,  0.6226,  0.5524,  0.0000,  0.0000,  0.5649,  1.0000,\n",
              "           0.1290,  0.5000,  0.2500,  1.0000],\n",
              "         [ 0.4583,  0.0000,  0.4340,  0.5874,  0.0000,  0.5000,  0.7786,  1.0000,\n",
              "           0.2581,  1.0000,  0.0000,  1.0000],\n",
              "         [ 0.6042,  0.0000,  0.2925,  0.5909,  0.0000,  0.0000,  0.7634,  0.0000,\n",
              "           0.0000,  1.0000,  0.5000,  1.0000],\n",
              "         [ 0.7292,  0.0000,  0.4811,  0.2832,  0.0000,  0.0000,  0.4656,  0.0000,\n",
              "           0.3226,  0.5000,  0.5000,  0.3333],\n",
              "         [ 0.5625,  0.0000,  0.3774,  0.9720,  0.0000,  0.0000,  0.6031,  1.0000,\n",
              "           0.3065,  0.5000,  0.5000,  1.0000],\n",
              "         [ 0.8333,  0.6667,  0.4340,  0.4301,  0.0000,  0.0000,  0.5725,  0.0000,\n",
              "           0.3226,  0.5000,  0.7500,  1.0000],\n",
              "         [ 0.4583,  0.0000,  0.4340,  0.5839,  0.0000,  0.5000,  0.3893,  1.0000,\n",
              "           0.6774,  0.5000,  0.7500,  1.0000],\n",
              "         [ 0.6875,  0.0000,  0.4151,  0.5699,  1.0000,  0.5000,  0.2672,  0.0000,\n",
              "           0.3065,  0.5000,  0.7500,  0.6667],\n",
              "         [ 0.3333,  0.0000,  0.4528,  0.6224,  0.0000,  0.0000,  0.5802,  1.0000,\n",
              "           0.0000,  0.5000,  0.7500,  1.0000],\n",
              "         [ 0.4375,  0.0000,  0.4717,  0.2413,  0.0000,  0.0000,  0.4198,  1.0000,\n",
              "           0.1452,  0.5000,  0.0000,  1.0000],\n",
              "         [ 0.7708,  0.0000,  0.1698,  0.2832,  0.0000,  0.0000,  0.4656,  1.0000,\n",
              "           0.0161,  1.0000,  0.2500,  0.6667],\n",
              "         [ 0.6667,  1.0000,  0.3774,  0.3601,  0.0000,  0.5000,  0.5649,  0.0000,\n",
              "           0.4194,  0.5000,  0.5000,  0.6667],\n",
              "         [ 0.3750,  0.0000,  0.1509,  0.5035,  0.0000,  0.0000,  0.3588,  1.0000,\n",
              "           0.1613,  0.5000,  0.2500,  0.6667],\n",
              "         [ 0.4792,  0.0000,  0.2925,  0.2832,  0.0000,  0.5000,  0.7405,  0.0000,\n",
              "           0.1613,  1.0000,  0.5000,  1.0000],\n",
              "         [ 0.5833,  0.0000,  0.1509,  0.7133,  0.0000,  0.5000,  0.5496,  1.0000,\n",
              "           0.4839,  0.5000,  0.2500,  1.0000],\n",
              "         [ 0.7917,  0.6667,  0.5472,  0.2832,  0.0000,  0.0000,  0.6031,  0.0000,\n",
              "           0.1290,  0.5000,  0.0000,  1.0000],\n",
              "         [ 0.7083,  0.0000,  0.4340,  0.1958,  0.0000,  0.0000,  0.5573,  1.0000,\n",
              "           0.6452,  1.0000,  0.5000,  1.0000],\n",
              "         [ 0.6250,  0.0000,  0.6604,  0.1573,  1.0000,  0.0000,  0.1450,  0.0000,\n",
              "           0.1613,  0.5000,  0.5000,  0.3333],\n",
              "         [ 0.8125,  0.0000,  0.4717,  0.2168,  1.0000,  0.5000,  0.5344,  0.0000,\n",
              "           0.5484,  0.5000,  0.5000,  1.0000]]),\n",
              " tensor([1, 1, 1, 1, 1, 1, 1, 1, 1, 1, 1, 1, 1, 1, 1, 1, 1, 1, 1, 1, 1, 1, 1, 1,\n",
              "         1, 1, 1, 1, 0, 0, 0, 0, 0, 0, 0, 0, 0, 0, 0, 0, 0, 0, 0, 0, 0, 0, 0, 0,\n",
              "         0, 0, 0, 0, 0, 0, 0, 0, 0, 0, 0, 0, 0]))"
            ]
          },
          "execution_count": 8,
          "metadata": {},
          "output_type": "execute_result"
        }
      ],
      "source": [
        "x_test, y_test"
      ]
    },
    {
      "cell_type": "code",
      "execution_count": 9,
      "metadata": {},
      "outputs": [],
      "source": [
        "class ArtificialNeuralNetwork(nn.Module):\n",
        "    def __init__(self):\n",
        "        super().__init__()\n",
        "        self.fc1 = nn.Linear(12, 16)\n",
        "        self.fc2 = nn.Linear(16, 16)\n",
        "        self.fc3 = nn.Linear(16, 1)\n",
        "\n",
        "    def forward(self, x):\n",
        "        x = torch.sigmoid(self.fc1(x))\n",
        "        x = torch.sigmoid(self.fc2(x))\n",
        "        x = self.fc3(x)\n",
        "        return x\n",
        "\n",
        "model = ArtificialNeuralNetwork()"
      ]
    },
    {
      "cell_type": "code",
      "execution_count": 10,
      "metadata": {},
      "outputs": [
        {
          "name": "stdout",
          "output_type": "stream",
          "text": [
            "Epoch [1/1000], Loss: 0.6476\n",
            "Epoch [101/1000], Loss: 0.2942\n",
            "Epoch [201/1000], Loss: 0.2351\n",
            "Epoch [301/1000], Loss: 0.2267\n",
            "Epoch [401/1000], Loss: 0.2248\n",
            "Epoch [501/1000], Loss: 0.2249\n",
            "Epoch [601/1000], Loss: 0.2258\n",
            "Epoch [701/1000], Loss: 0.2268\n",
            "Epoch [801/1000], Loss: 0.2276\n",
            "Epoch [901/1000], Loss: 0.2278\n",
            "Final Loss value: 0.3296\n"
          ]
        }
      ],
      "source": [
        "learning_rate = 0.001\n",
        "optimizer = torch.optim.Adam(model.parameters(), lr=learning_rate)\n",
        "\n",
        "num_epochs = 1000\n",
        "batch_size = 32\n",
        "train_data = torch.utils.data.TensorDataset(x_train, y_train)\n",
        "train_loader = torch.utils.data.DataLoader(train_data, batch_size=batch_size, shuffle=False)\n",
        "\n",
        "loss_fn = nn.BCEWithLogitsLoss()\n",
        "\n",
        "for epoch in range(num_epochs):\n",
        "    for i, (inputs, labels) in enumerate(train_loader):\n",
        "        optimizer.zero_grad()\n",
        "\n",
        "        outputs = model(inputs).squeeze()\n",
        "\n",
        "        loss = loss_fn(outputs, labels.float())\n",
        "\n",
        "        if (epoch % (num_epochs / 10) == 0 and i == 0):\n",
        "            print(f\"Epoch [{epoch+1}/{num_epochs}], Loss: {loss.item():.4f}\")\n",
        "\n",
        "        loss.backward()\n",
        "        optimizer.step()\n",
        "\n",
        "print(f\"Final Loss value: {loss.item():.4f}\")"
      ]
    },
    {
      "cell_type": "code",
      "execution_count": 11,
      "metadata": {},
      "outputs": [
        {
          "data": {
            "text/plain": [
              "tensor([1., 1., 1., 1., 1., 1., 1., 1., 1., 1., 1., 1., 1., 1., 1., 1., 1., 1.,\n",
              "        0., 1., 1., 1., 1., 1., 1., 1., 1., 1., 1., 1., 0., 0., 0., 1., 0., 0.,\n",
              "        1., 1., 0., 0., 0., 1., 0., 0., 0., 0., 0., 0., 0., 0., 0., 0., 0., 1.,\n",
              "        0., 0., 0., 1., 0., 0., 0.], grad_fn=<RoundBackward0>)"
            ]
          },
          "execution_count": 11,
          "metadata": {},
          "output_type": "execute_result"
        }
      ],
      "source": [
        "y_pred = model(x_test).squeeze()\n",
        "y_pred = torch.round(torch.sigmoid(y_pred))\n",
        "y_pred"
      ]
    },
    {
      "cell_type": "code",
      "execution_count": 12,
      "metadata": {},
      "outputs": [
        {
          "name": "stdout",
          "output_type": "stream",
          "text": [
            "ANN Accuracy in %: 85.25\n"
          ]
        }
      ],
      "source": [
        "accuracy_ann = (y_pred == y_test).sum()/len(y_test)\n",
        "print(f\"ANN Accuracy in %: {accuracy_ann.item()*100:.2f}\")"
      ]
    },
    {
      "cell_type": "code",
      "execution_count": 13,
      "metadata": {},
      "outputs": [
        {
          "name": "stdout",
          "output_type": "stream",
          "text": [
            "Random Accuracy in %: 51.49\n"
          ]
        }
      ],
      "source": [
        "num_instances = len(df)\n",
        "\n",
        "random_predictions = [random.randint(0, 1) for _ in range(num_instances)]\n",
        "\n",
        "correct_predictions = sum(random_predictions[i] == df['output'][i] for i in range(num_instances))\n",
        "accuracy_random = correct_predictions / num_instances\n",
        "\n",
        "print(f\"Random Accuracy in %: {accuracy_random*100:.2f}\")"
      ]
    },
    {
      "cell_type": "code",
      "execution_count": 14,
      "metadata": {},
      "outputs": [
        {
          "data": {
            "image/png": "[encoded data removed]",
            "text/plain": [
              "<Figure size 640x480 with 1 Axes>"
            ]
          },
          "metadata": {},
          "output_type": "display_data"
        }
      ],
      "source": [
        "model_names = ['Artificial Neural Network', 'Random']\n",
        "accuracies = [accuracy_ann.item(), accuracy_random]\n",
        "\n",
        "data = pd.DataFrame({'Model': model_names, 'Accuracy': accuracies})\n",
        "\n",
        "ax = sns.barplot(x='Model', y='Accuracy', data=data, hue='Model', palette='viridis', legend=False)\n",
        "\n",
        "ax.set_xlabel('Model')\n",
        "ax.set_ylabel('Accuracy')\n",
        "ax.set_title('Comparison of Model Accuracies')\n",
        "\n",
        "ax.set_ylim(0, 1)\n",
        "\n",
        "plt.show()"
      ]
    }
  ],
  "metadata": {
    "colab": {
      "provenance": []
    },
    "kernelspec": {
      "display_name": "Python 3",
      "name": "python3"
    },
    "language_info": {
      "codemirror_mode": {
        "name": "ipython",
        "version": 3
      },
      "file_extension": ".py",
      "mimetype": "text/x-python",
      "name": "python",
      "nbconvert_exporter": "python",
      "pygments_lexer": "ipython3",
      "version": "3.10.11"
    }
  },
  "nbformat": 4,
  "nbformat_minor": 0
}
