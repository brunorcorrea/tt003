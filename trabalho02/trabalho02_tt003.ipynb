{
  "cells": [
    {
      "cell_type": "markdown",
      "metadata": {
        "id": "hNHiTpWV3K0Z"
      },
      "source": [
        "\n",
        "Neste trabalho, vamos tentar representar outro jogo  de tabuleiro com o conhecimento que temos da linguagem Python. Este notebook oferecerá a você uma maneira de utilizar as estruturas de dados que já vêm por padrão na linguagem Python para representar o tabuleiro, as jogadas válidas e criar um jogador que faz jogadas ao acaso. A forma de representação criada neste notebook pode (e deve) ser modificada por você se concluir que outras formas são mais eficientes. Você pode optar, por exemplo, em usar algo mais próximo do que o que foi feito em sala de aula (representação do tabuleiro como tuplas de números inteiros) para o jogo da velha.\n",
        "\n",
        "\n",
        "# Breakthrough\n",
        "\n",
        "Breakthrough é um jogo de estratégia que possui algumas similaridades com xadrez e damas. O jogo precisa de dois jogadores (peças brancas e pretas), e um tabuleiro semelhante ao dos jogos de xadrez e damas.\n",
        "\n",
        "Nesse tabuleiro, o número de linhas e colunas poderá variar. Para identificar uma posição no tabuleiro usaremos o padrão (linha,coluna). A posição (1,1) será sempre a que está no canto inferior esquerdo das brancas e as outras posições serão numeradas a partir dela.\n",
        "\n",
        "## Movimentação e Captura\n",
        "\n",
        "O breakthrough possui apenas um tipo de peça que pode se mover um quadrado para frente ou para a diagonal, mas sempre em direção ao campo adversário. Em outras palavras, uma peça jamais pode retroceder ou se movimentar para outra posição na mesma linha. Isso ajuda a  garantir que o jogo não será infinito.\n",
        "\n",
        "Uma peça pode mover-se para uma posição ocupada pelo adversário se, e somente se, a posição do adversário está diagonalmente a um quadrado de distância. Neste caso, a peça do oponente será removida do tabuleiro (capturada) e o  jogador ocupará a casa com a sua peça. A figura a seguir ilustra os dois conceitos.\n",
        "\n",
        "\n",
        "![alt text](http://www.ic.unicamp.br/~udias/si202/movcapt.png)\n",
        "\n",
        "Na figura acima, a peça que está em (4,2) pode mover para as casas (5,1), (5,2) e (5,3), que estão marcadas com um \"x\". A peça que está em (4,6) pode capturar as peças pretas que estão em (5,5) e (5,7).\n",
        "\n",
        "Vale ressaltar que a captura não é obrigatória e não pode ser efetuada em cadeia (como no jogo de damas).\n",
        "\n",
        "## Fim de Jogo\n",
        "\n",
        "O jogo acaba quando um dos jogadores consegue colocar uma peça na sua última linha. Ou seja, o objetivo das brancas é colocar uma peça na linha $n$, onde $n$ é o número de linhas, e o objetivo das pretas é colocar uma peça na linha 1.\n",
        "\n",
        "Quando um dos jogadores não possuir mais nenhuma peça no tabuleiro, será considerado perdedor, pois não poderá mais atingir o objetivo do jogo e não conseguirá evitar que o adversário o atinja.\n",
        "\n",
        "Um ponto que deve ser observado é que **o jogo nunca terminará empatado**, pois uma peça nunca pode retroceder e é sempre possível encontrar pelo menos uma diagonal para onde possa se movimentar ou capturar.\n",
        "\n",
        "\n",
        "\n"
      ]
    },
    {
      "cell_type": "markdown",
      "metadata": {
        "id": "uRQi1-8jqTlZ"
      },
      "source": [
        "### Jogadores\n",
        "\n",
        "O breaktrough, assim como todos os jogos que usaremos nesta disciplina, vão ser jogados por dois jogadores. Seguiremos um padrão para nomear os jogadores:\n",
        "\n",
        "**O jogador que inicia a partida será chamado de \"1\", o outro jogador será chamado de \"-1\"**\n",
        "\n",
        "Como no breaktrough as peças **brancas** começam, então o jogador que conduz as peças brancas será o jogador **1**, enquanto que o jogador que conduz as peças pretas será chamado de **-1**.\n",
        "\n",
        "Lembre-se que todos os jogos desta disciplina são em turnos, então esse padrão poderá ser seguido por você em seu trabalho, a não ser que uma razão muito boa o faça mudar de ideia."
      ]
    },
    {
      "cell_type": "markdown",
      "metadata": {
        "id": "jayjnD2lqnX7"
      },
      "source": [
        "## Tabuleiro\n",
        "\n",
        "A forma mais óbvia de representar um tabuleiro talvez seja por meio de uma tupla contendo todas as células do tabuleiro em alguma ordem. Entretanto, seguiremos uma abordagem diferente dessa vez para que a nossa representão não seja uma simples cópia do que fizemos para o jogo da velha. Você pode, entretanto, refazer tudo o que fizemos neste notebook de hoje com a mesma estrutura da aula do jogo da velha.\n",
        "\n",
        "Na abordagem que seguiremos, um tabuleiro será representado por dois números e por um par de tuplas, uma delas contendo a listagem das peças brancas e a outra contendo a listagem das peças pretas. Os dois números anteriormente mencionados servem para definir as dimensões do tabuleiro, que serão fixadas previamente. A seguir, a representação de um possível tabuleiro:\n",
        "\n",
        "**4, 5, ((1,1),(2,2),(2,3)), ((3,3),(4,4),(2,4))**\n",
        "\n",
        "Nessa representação, temos um tabuleiro 4x5 onde as peças brancas estão nas casas (1,1), (2,2) e (2,3), enquanto que as peças pretas estão na casa ((3,3), (4,4) e (2,4))."
      ]
    },
    {
      "cell_type": "markdown",
      "metadata": {
        "id": "gVR5edFeK6RX"
      },
      "source": [
        "## Biblioteca de suporte\n",
        "\n",
        "Uma biblioteca foi criada especificamente para este jogo e está disponível para você no github. No trabalho, você deve importar esta biblioteca e entender o que ela faz."
      ]
    },
    {
      "cell_type": "code",
      "execution_count": 9,
      "metadata": {
        "colab": {
          "base_uri": "https://localhost:8080/"
        },
        "id": "lj3yXLqsLBiz",
        "outputId": "6c34256e-9f01-4c48-b36f-c5fe24fe63c6"
      },
      "outputs": [],
      "source": [
        "# !wget https://raw.githubusercontent.com/ulissesdias/tt003/main/libraries/breakthrough.py"
      ]
    },
    {
      "cell_type": "code",
      "execution_count": 10,
      "metadata": {
        "id": "syO4WUwPWmlJ"
      },
      "outputs": [],
      "source": [
        "import breakthrough as bkt"
      ]
    },
    {
      "cell_type": "markdown",
      "metadata": {
        "id": "NOKsyXFl9FTA"
      },
      "source": [
        "# Representação Visual do Tabuleiro\n",
        "\n",
        "Vamos fazer a representação visual do tabuleiro, você notará que não difere muito do que aprendemos para o jogo da velha.\n",
        "\n",
        "Foram implementadas uma série de funções que você pode fazer uso. Uma dessas funções é a **draw_board(lines, columns, white_positions, black_positions)**, que recebe as configurações de um tabuleiro e imprime esse tabuleiro no kernel. Os parâmetros para essa função são explicados abaixo.\n",
        "\n",
        "**lines:** número de linhas no tabuleiro.\n",
        "\n",
        "**columns:** número de colunas no tabuleiro.\n",
        "\n",
        "**white_positions:** posição das peças brancas.\n",
        "\n",
        "**black_positions:** posição das peças pretas.\n",
        "\n",
        "Um exemplo da chamada da função será mostrado a seguir."
      ]
    },
    {
      "cell_type": "code",
      "execution_count": 11,
      "metadata": {
        "colab": {
          "base_uri": "https://localhost:8080/",
          "height": 217
        },
        "id": "_N_ejZR_-cTe",
        "outputId": "3bb8a355-ca54-4dd3-f554-3cd7b3b38d5f"
      },
      "outputs": [
        {
          "data": {
            "image/png": "[encoded data removed]",
            "text/plain": [
              "<PIL.Image.Image image mode=RGB size=200x200>"
            ]
          },
          "metadata": {},
          "output_type": "display_data"
        }
      ],
      "source": [
        "board = bkt.draw_board(4,5,((1,1),(2,2),(2,3)), ((3,3),(4,4),(2,4)))\n",
        "display(board)"
      ]
    },
    {
      "cell_type": "markdown",
      "metadata": {
        "id": "pNX1mzdhZCm6"
      },
      "source": [
        "## Sequência de Jogadas\n",
        "\n",
        "Será muito mais fácil para nós entendermos o jogo se tivermos uma maneira de visualizar uma partida inteira. Para isso, vamos usar a função **display_sequence**\n"
      ]
    },
    {
      "cell_type": "code",
      "execution_count": 12,
      "metadata": {
        "colab": {
          "base_uri": "https://localhost:8080/",
          "height": 353,
          "referenced_widgets": [
            "e8fd93dffd7a4cbb87506239cbc0b5a3",
            "a97479b2cfcc462e98f7575237c5764b",
            "9bdcc9fb8e4a4e81b0158b852ef4b6d9",
            "7bbc870b265c41bcafa8a0570508b1fc",
            "90e17447283644288dbc4438cc0104da",
            "9379d02a2b534c3d95fffd04d596340d",
            "16d5312c2b774c1f82185ef4fce5080a"
          ]
        },
        "id": "Uj1zFpS2ZKf8",
        "outputId": "cc7dcfb3-12a9-423b-a3e3-6535d8e8d5a7"
      },
      "outputs": [
        {
          "data": {
            "application/vnd.jupyter.widget-view+json": {
              "model_id": "a2e498d946094f7d98fe5c440ae4b5c1",
              "version_major": 2,
              "version_minor": 0
            },
            "text/plain": [
              "interactive(children=(IntSlider(value=2, description='frame', max=5), Output()), _dom_classes=('widget-interac…"
            ]
          },
          "metadata": {},
          "output_type": "display_data"
        },
        {
          "data": {
            "text/plain": [
              "<function breakthrough.display_sequence.<locals>._show(frame=(0, 5))>"
            ]
          },
          "execution_count": 12,
          "metadata": {},
          "output_type": "execute_result"
        }
      ],
      "source": [
        "images = [\n",
        "    bkt.draw_board(4,5,((1,1),(2,2),(2,3)), ((3,3),(4,4),(2,4))),\n",
        "    bkt.draw_board(4,5,((2,1),(2,2),(2,3)), ((3,3),(4,4),(2,4))),\n",
        "    bkt.draw_board(4,5,((2,1),(2,3)), ((2,2),(4,4),(2,4))),\n",
        "    bkt.draw_board(4,5,((3,1),(2,3)), ((2,2),(4,4),(2,4))),\n",
        "    bkt.draw_board(4,5,((3,1),(2,3)), ((2,2),(3,4),(2,4))),\n",
        "    bkt.draw_board(4,5,((4,1),(2,3)), ((2,2),(3,4),(2,4))),\n",
        "]\n",
        "bkt.display_sequence(images)"
      ]
    },
    {
      "cell_type": "markdown",
      "metadata": {
        "id": "ShzcMNNUB0jW"
      },
      "source": [
        "# Implementando o Jogo\n",
        "\n",
        "Vamos começar a implementar o jogo propriamente dito para que seja possível posteriormente criar um jogador com aprendizado por reforço. Em sala de aula, aprendemos que para isso precisamos de dois itens principais:\n",
        "\n",
        "1. Identificar quando um jogo acabou e representar as condições de vitória.\n",
        "2. Identificar as jogadas válidas para cada estado (ações possíveis).\n"
      ]
    },
    {
      "cell_type": "markdown",
      "metadata": {
        "id": "G8iZVHwBvY_T"
      },
      "source": [
        "## Condições de Fim de Jogo\n",
        "\n",
        "Em geral, podemos identificar três condições em que uma partida pode ser finalizada:\n",
        "\n",
        "1. Uma peça branca chegou na última linha.\n",
        "2. Uma peça preta chegou na primeira linha.\n",
        "3. Um jogador perdeu todas as peças.\n",
        "\n",
        "Em cada uma dessas situações, é possível identificar um dos jogadores como vencedor, lembrando que **1** representa o jogador das brancas e **-1** representa o jogador das pretas.\n",
        "\n",
        "A função **winner** da biblioteca verifica essas possibilidades, usando os números **1** e **-1** nos casos de vitória de algum dos jogadores (brancas e pretas, respectivamente), e o número **0** no caso de partida ainda não concluída.\n",
        "\n",
        "Se você olhar o código notará que essa função foi implementada sem pensar em eficiência, apenas na legibilidade e na lógica. Se quiséssemos fazer uma função mais eficiente, levaríamos em conta que não é preciso percorrer toda a lista de peças para saber se uma partida acabou, pois basta verificar se a última peça movida alcançou a última linha (ou primeira, no caso da pretas) do tabuleiro. Você pode, se quiser, futuramente criar uma biblioteca mais eficiente."
      ]
    },
    {
      "cell_type": "code",
      "execution_count": 13,
      "metadata": {
        "colab": {
          "base_uri": "https://localhost:8080/"
        },
        "id": "dMK5JwcsvzBi",
        "outputId": "0d108b4d-6ecb-420b-e00f-6ce6aa9dc2c5"
      },
      "outputs": [
        {
          "data": {
            "text/plain": [
              "1"
            ]
          },
          "execution_count": 13,
          "metadata": {},
          "output_type": "execute_result"
        }
      ],
      "source": [
        "## Brancas vencem a partida\n",
        "bkt.winner(4,5,((4,1),(2,3)), ((2,2),(3,4),(2,4)))"
      ]
    },
    {
      "cell_type": "code",
      "execution_count": 14,
      "metadata": {
        "colab": {
          "base_uri": "https://localhost:8080/"
        },
        "id": "4Ep-cBXKOXps",
        "outputId": "92c19614-8f3f-49c9-8664-ff8ea8b83e98"
      },
      "outputs": [
        {
          "data": {
            "text/plain": [
              "0"
            ]
          },
          "execution_count": 14,
          "metadata": {},
          "output_type": "execute_result"
        }
      ],
      "source": [
        "## Partida não acabou\n",
        "bkt.winner(4,5,((2,1),(2,3)), ((2,2),(4,4),(2,4)))"
      ]
    },
    {
      "cell_type": "markdown",
      "metadata": {
        "id": "6gVVVDkMzkhY"
      },
      "source": [
        "## Jogadas Válidas para cada estado\n",
        "\n",
        "A biblioteca implementa também a função **get_valid_moves**. Nesse caso, você deverá passar as configurações do tabuleiro (**linhas**, **colunas**, **posições das brancas**, e **posições das pretas**), além de quem tem a vez de jogar. A função devolverá a posição inicial e a final das peças que podem ser movidas. Vamos supor o seguinte tabuleiro e ver quais jogadas poderiam ser feitas pelas brancas e pretas:"
      ]
    },
    {
      "cell_type": "code",
      "execution_count": 15,
      "metadata": {
        "colab": {
          "base_uri": "https://localhost:8080/",
          "height": 217
        },
        "id": "92x7bIu3zxki",
        "outputId": "baee5c1a-e389-4f74-81ed-0af7e31465c1"
      },
      "outputs": [
        {
          "data": {
            "image/png": "[encoded data removed]",
            "text/plain": [
              "<PIL.Image.Image image mode=RGB size=200x200>"
            ]
          },
          "execution_count": 15,
          "metadata": {},
          "output_type": "execute_result"
        }
      ],
      "source": [
        "## Tabuleiro\n",
        "lines = 5\n",
        "columns = 5\n",
        "white_positions = ((1,1),(2,2),(1,4),(1,5))\n",
        "black_positions = ((5,2),(5,3), (5,4),(4,5))\n",
        "bkt.draw_board(lines, columns, white_positions, black_positions)"
      ]
    },
    {
      "cell_type": "code",
      "execution_count": 16,
      "metadata": {
        "colab": {
          "base_uri": "https://localhost:8080/"
        },
        "id": "u_VsjrLFVjVZ",
        "outputId": "05aecb3b-a75d-4add-9d83-1368be672c23"
      },
      "outputs": [
        {
          "data": {
            "text/plain": [
              "(((1, 1), (2, 1)),\n",
              " ((2, 2), (3, 1)),\n",
              " ((2, 2), (3, 2)),\n",
              " ((2, 2), (3, 3)),\n",
              " ((1, 4), (2, 3)),\n",
              " ((1, 4), (2, 4)),\n",
              " ((1, 4), (2, 5)),\n",
              " ((1, 5), (2, 4)),\n",
              " ((1, 5), (2, 5)))"
            ]
          },
          "execution_count": 16,
          "metadata": {},
          "output_type": "execute_result"
        }
      ],
      "source": [
        "## Jogadas das brancas\n",
        "bkt.get_valid_moves(lines, columns, white_positions, black_positions, 1)"
      ]
    },
    {
      "cell_type": "code",
      "execution_count": 17,
      "metadata": {
        "colab": {
          "base_uri": "https://localhost:8080/"
        },
        "id": "lQBh15S8Vrmf",
        "outputId": "85f263b0-90e2-4cc8-d800-de6b72525470"
      },
      "outputs": [
        {
          "data": {
            "text/plain": [
              "[[(5, 2), (4, 3)],\n",
              " [(5, 2), (4, 2)],\n",
              " [(5, 2), (4, 1)],\n",
              " [(5, 3), (4, 4)],\n",
              " [(5, 3), (4, 3)],\n",
              " [(5, 3), (4, 2)],\n",
              " [(5, 4), (4, 4)],\n",
              " [(5, 4), (4, 3)],\n",
              " [(4, 5), (3, 5)],\n",
              " [(4, 5), (3, 4)]]"
            ]
          },
          "execution_count": 17,
          "metadata": {},
          "output_type": "execute_result"
        }
      ],
      "source": [
        "## Jogadas das pretas\n",
        "bkt.get_valid_moves(lines, columns, white_positions, black_positions, -1)"
      ]
    },
    {
      "cell_type": "markdown",
      "metadata": {
        "id": "ON710HTI0wFw"
      },
      "source": [
        "## Efetuando Jogadas\n",
        "\n",
        "Supondo que queremos criar um **bot** para jogar breaktrough, o que ele precisa saber? Obviamente ele precisa saber quais são as jogadas válidas e qual peças ele está conduzindo. Basta isso para criarmos um jogador sem nenhum tipo de inteligência, que escolha ao acaso uma jogada dentre todas as disponíveis.\n"
      ]
    },
    {
      "cell_type": "code",
      "execution_count": 18,
      "metadata": {
        "id": "_2-Sysd606xj"
      },
      "outputs": [],
      "source": [
        "## O jogador retornará a peça que irá mover no\n",
        "## tabuleiro, seguida da posição no tabuleiro onde\n",
        "## deverá colocar a peça.\n",
        "player = bkt.random_player"
      ]
    },
    {
      "cell_type": "code",
      "execution_count": 19,
      "metadata": {
        "colab": {
          "base_uri": "https://localhost:8080/"
        },
        "id": "L8JIbpvcYZKP",
        "outputId": "c2857cd1-109d-4e1b-f2bd-b8f212f96ad6"
      },
      "outputs": [
        {
          "data": {
            "text/plain": [
              "((1, 4), (2, 3))"
            ]
          },
          "execution_count": 19,
          "metadata": {},
          "output_type": "execute_result"
        }
      ],
      "source": [
        "## Retorna uma jogada se for a vez das brancas\n",
        "player(lines, columns, white_positions, black_positions, 1)"
      ]
    },
    {
      "cell_type": "code",
      "execution_count": 20,
      "metadata": {
        "colab": {
          "base_uri": "https://localhost:8080/"
        },
        "id": "bLMRpsFZYoYP",
        "outputId": "fc2d0c22-56a0-426b-9b95-790bde1beb65"
      },
      "outputs": [
        {
          "data": {
            "text/plain": [
              "[(5, 3), (4, 2)]"
            ]
          },
          "execution_count": 20,
          "metadata": {},
          "output_type": "execute_result"
        }
      ],
      "source": [
        "## Retorna uma jogada se for a vez das pretas\n",
        "player(lines, columns, white_positions, black_positions, -1)"
      ]
    },
    {
      "cell_type": "markdown",
      "metadata": {
        "id": "IBHr_4213ZRH"
      },
      "source": [
        "## Gerenciador de Jogo\n",
        "\n",
        "Temos um tabuleiro e um jogador que pode conduzir as peças (brancas e pretas). O que devemos fazer agora é criar um gerenciador de jogo para que uma partida possa ser iniciada. O gerenciador irá:\n",
        "\n",
        "1.   Garantir que pedirá para o jogador certo jogar (alternância entre jogadores).\n",
        "2.   Gerenciar o tabuleiro de modo a fazer com que as jogadas sejam concretizadas.\n",
        "3.   Verificar se as condições de vitória, derrota ou empates já foram satisfeitas.\n",
        "4.   Armazenar um histórico de jogadas, para que os jogadores posteriormente possam analisar.\n",
        "\n",
        "A função que faz tudo isso é a função game da nossa biblioteca. Essa função devolverá o vencedor e um histórico das jogadas. Note que o histórico das jogadas é devolvido como uma sequência da seguinte forma:\n",
        "\n",
        "[ (turn_0, white_positions_0, black_positions_0), (turn_1, white_positions_1, black_positions_1), ..., (turn_n, white_positions_n, black_positions_n) ]"
      ]
    },
    {
      "cell_type": "code",
      "execution_count": 21,
      "metadata": {
        "id": "8mhIVgVX59b5"
      },
      "outputs": [],
      "source": [
        "## Agora vamos colocar o jogador para jogar contra si mesmo.\n",
        "winner, history = bkt.game(player, player)"
      ]
    },
    {
      "cell_type": "code",
      "execution_count": 22,
      "metadata": {
        "colab": {
          "base_uri": "https://localhost:8080/"
        },
        "id": "100gNC5YZUuN",
        "outputId": "9ab82ccf-8015-4aec-a15c-0531e9f76fda"
      },
      "outputs": [
        {
          "data": {
            "text/plain": [
              "-1"
            ]
          },
          "execution_count": 22,
          "metadata": {},
          "output_type": "execute_result"
        }
      ],
      "source": [
        "## Veja quem é o vencedor\n",
        "winner"
      ]
    },
    {
      "cell_type": "code",
      "execution_count": 23,
      "metadata": {
        "colab": {
          "base_uri": "https://localhost:8080/"
        },
        "id": "Yub4PHzLZXlS",
        "outputId": "4e86bfa5-359b-403e-f2b5-f6407a0467b9"
      },
      "outputs": [
        {
          "data": {
            "text/plain": [
              "[(1,\n",
              "  ((1, 1), (1, 2), (1, 3), (1, 4), (1, 5)),\n",
              "  ((5, 1), (5, 2), (5, 3), (5, 4), (5, 5))),\n",
              " (-1,\n",
              "  ((1, 1), (1, 3), (1, 4), (1, 5), (2, 2)),\n",
              "  ((5, 1), (5, 2), (5, 3), (5, 4), (5, 5))),\n",
              " (1,\n",
              "  ((1, 1), (1, 3), (1, 4), (1, 5), (2, 2)),\n",
              "  ((5, 1), (5, 2), (5, 3), (5, 5), (4, 4))),\n",
              " (-1,\n",
              "  ((1, 1), (1, 3), (1, 4), (1, 5), (3, 1)),\n",
              "  ((5, 1), (5, 2), (5, 3), (5, 5), (4, 4))),\n",
              " (1,\n",
              "  ((1, 1), (1, 3), (1, 4), (1, 5), (3, 1)),\n",
              "  ((5, 1), (5, 2), (5, 3), (5, 5), (3, 4))),\n",
              " (-1,\n",
              "  ((1, 3), (1, 4), (1, 5), (3, 1), (2, 2)),\n",
              "  ((5, 1), (5, 2), (5, 3), (5, 5), (3, 4))),\n",
              " (1,\n",
              "  ((1, 3), (1, 4), (1, 5), (3, 1), (2, 2)),\n",
              "  ((5, 1), (5, 2), (5, 5), (3, 4), (4, 3))),\n",
              " (-1,\n",
              "  ((1, 4), (1, 5), (3, 1), (2, 2), (2, 4)),\n",
              "  ((5, 1), (5, 2), (5, 5), (3, 4), (4, 3))),\n",
              " (1,\n",
              "  ((1, 4), (1, 5), (3, 1), (2, 2), (2, 4)),\n",
              "  ((5, 1), (5, 2), (3, 4), (4, 3), (4, 5))),\n",
              " (-1,\n",
              "  ((1, 5), (3, 1), (2, 2), (2, 4), (2, 5)),\n",
              "  ((5, 1), (5, 2), (3, 4), (4, 3), (4, 5))),\n",
              " (1,\n",
              "  ((1, 5), (3, 1), (2, 2), (2, 4), (2, 5)),\n",
              "  ((5, 2), (3, 4), (4, 3), (4, 5), (4, 2))),\n",
              " (-1,\n",
              "  ((1, 5), (3, 1), (2, 2), (2, 5), (3, 5)),\n",
              "  ((5, 2), (3, 4), (4, 3), (4, 5), (4, 2))),\n",
              " (1,\n",
              "  ((1, 5), (3, 1), (2, 2), (2, 5), (3, 5)),\n",
              "  ((5, 2), (4, 3), (4, 5), (4, 2), (2, 3))),\n",
              " (-1,\n",
              "  ((1, 5), (3, 1), (2, 2), (2, 5), (4, 4)),\n",
              "  ((5, 2), (4, 3), (4, 5), (4, 2), (2, 3))),\n",
              " (1,\n",
              "  ((1, 5), (3, 1), (2, 2), (2, 5), (4, 4)),\n",
              "  ((5, 2), (4, 3), (4, 5), (4, 2), (1, 3)))]"
            ]
          },
          "execution_count": 23,
          "metadata": {},
          "output_type": "execute_result"
        }
      ],
      "source": [
        "## Veja o histórico de partidas.\n",
        "history"
      ]
    },
    {
      "cell_type": "markdown",
      "metadata": {
        "id": "IOyJhhl08fVY"
      },
      "source": [
        "## Desenhando Histórico\n",
        "\n",
        "Criamos anteriormente uma função que mostra uma sequência de **Images** na tela. Agora precisamos de uma função que cria esses objetos **Image**. A função que faz isso deverá percorrer o histórico e fazer as chamadas a **draw_board** de maneira adequada, nada muito complicado comparado com o que já conseguimos evoluir."
      ]
    },
    {
      "cell_type": "code",
      "execution_count": 24,
      "metadata": {
        "colab": {
          "base_uri": "https://localhost:8080/",
          "height": 353,
          "referenced_widgets": [
            "f0ab227d674d4eb89cdca51d2e183336",
            "8152b842a8dc43fc9f10b0d238d7d5b0",
            "8e73194f31e944739ce138abf7b73c86",
            "78672419cad84f899ae5ea61775a0f00",
            "f1abb6cdbdbd4bb49298de946d85a38f",
            "bd3eb8947b2d4eee8d9cb10e1297e6ae",
            "666ad76c7b7e4d8e9efabe541825d0bc"
          ]
        },
        "id": "HhDYGfdY8aoO",
        "outputId": "28ab3cef-d07e-4854-f908-b1db3fc435b2"
      },
      "outputs": [
        {
          "data": {
            "application/vnd.jupyter.widget-view+json": {
              "model_id": "ea91e3e55e584e9b914c6dff9ec34cc1",
              "version_major": 2,
              "version_minor": 0
            },
            "text/plain": [
              "interactive(children=(IntSlider(value=7, description='frame', max=14), Output()), _dom_classes=('widget-intera…"
            ]
          },
          "metadata": {},
          "output_type": "display_data"
        },
        {
          "data": {
            "text/plain": [
              "<function breakthrough.display_sequence.<locals>._show(frame=(0, 14))>"
            ]
          },
          "execution_count": 24,
          "metadata": {},
          "output_type": "execute_result"
        }
      ],
      "source": [
        "images = bkt.generate_image_history(lines, columns, history)\n",
        "bkt.display_sequence(images)"
      ]
    },
    {
      "cell_type": "markdown",
      "metadata": {
        "id": "_dJFZoOZcBvw"
      },
      "source": [
        "## Jogando contra humanos\n",
        "\n",
        "Você pode pegar um jogador qualquer e fazê-lo jogar contra um humano"
      ]
    },
    {
      "cell_type": "code",
      "execution_count": 25,
      "metadata": {
        "colab": {
          "base_uri": "https://localhost:8080/",
          "height": 956
        },
        "id": "Bm6_Yti1cGyW",
        "outputId": "190b935a-6a09-4d0d-a671-4538d2575875"
      },
      "outputs": [],
      "source": [
        "#winner, history = bkt.game(player, bkt.human_player)"
      ]
    },
    {
      "cell_type": "markdown",
      "metadata": {
        "id": "nUcxm9WCCxat"
      },
      "source": [
        "## Criando um novo Jogador\n",
        "\n",
        "O seu trabalho agora será criar um jogador inteligente para este jogo de tabuleiro com o conhecimento que vimos em sala de aula. O seu jogador pode usar qualquer variável global (como o state_values) que vimos em sala de aula.\n",
        "\n",
        "As únicas restrições do seu jogador é que:\n",
        "\n",
        "1. Ele deverá receber todos os parâmetros que representam um tabuleiro: **linhas**, **colunas**, **posição das brancas** e **posição das pretas**.\n",
        "2. Ele deverá receber de quem é a vez de jogar.\n",
        "3. Ele deverá receber um **epsilon**.\n",
        "\n",
        "Nesse caso, a assinatura do seu jogador deve ser:\n",
        "\n",
        "```\n",
        "def novo_player(lines, columns, white_positions, black_positions, turn, epsilon)\n",
        "```\n",
        "\n",
        "Por exemplo, o jogador a seguir tem a assinatura correta."
      ]
    },
    {
      "cell_type": "code",
      "execution_count": 26,
      "metadata": {
        "id": "wM0GsH71kKoc"
      },
      "outputs": [],
      "source": [
        "def novo_player(lines, columns, white_positions, black_positions, turn, epsilon) :\n",
        "    valid_moves = bkt.get_valid_moves(lines, columns, white_positions, black_positions, turn)\n",
        "    print(epsilon)\n",
        "    if epsilon < 0.5 :\n",
        "        return valid_moves[0]\n",
        "    else :\n",
        "        return valid_moves[-1]"
      ]
    },
    {
      "cell_type": "markdown",
      "metadata": {
        "id": "Fhn-gYx1lIu5"
      },
      "source": [
        "Note que se você quiser passar para o seu player um **epsilon** na chamada da função **game**, você deverá passar o epsilon para o próprio **game**."
      ]
    },
    {
      "cell_type": "code",
      "execution_count": 27,
      "metadata": {
        "colab": {
          "base_uri": "https://localhost:8080/"
        },
        "id": "fGoJCLEglIBZ",
        "outputId": "7714061e-0d66-4a2d-b279-d8f32104497e"
      },
      "outputs": [
        {
          "name": "stdout",
          "output_type": "stream",
          "text": [
            "0.7\n",
            "0.7\n",
            "0.7\n",
            "0.7\n",
            "0.7\n",
            "0.7\n"
          ]
        },
        {
          "data": {
            "text/plain": [
              "(-1,\n",
              " [(1, ((1, 1), (2, 2), (1, 4), (1, 5)), ((5, 2), (5, 3), (5, 4), (4, 5))),\n",
              "  (-1, ((1, 1), (2, 2), (1, 4), (2, 5)), ((5, 2), (5, 3), (5, 4), (4, 5))),\n",
              "  (1, ((1, 1), (2, 2), (1, 4), (2, 5)), ((5, 2), (5, 3), (5, 4), (3, 4))),\n",
              "  (-1, ((1, 1), (2, 2), (1, 4), (3, 5)), ((5, 2), (5, 3), (5, 4), (3, 4))),\n",
              "  (1, ((1, 1), (2, 2), (1, 4), (3, 5)), ((5, 2), (5, 3), (5, 4), (2, 3))),\n",
              "  (-1, ((1, 1), (2, 2), (1, 4), (4, 5)), ((5, 2), (5, 3), (5, 4), (2, 3))),\n",
              "  (1, ((1, 1), (2, 2), (1, 4), (4, 5)), ((5, 2), (5, 3), (5, 4), (1, 2)))])"
            ]
          },
          "execution_count": 27,
          "metadata": {},
          "output_type": "execute_result"
        }
      ],
      "source": [
        "bkt.game(novo_player, novo_player, lines, columns, white_positions, black_positions, epsilon = 0.7)"
      ]
    },
    {
      "cell_type": "markdown",
      "metadata": {
        "id": "-gVnAONdmPO4"
      },
      "source": [
        "# Crie um Jogador Inteligente com Monte Carlo\n",
        "\n",
        "Agora é sua vez, crie um jogador inteligente usando a abordagem de Monte Carlo. Nós configuraremos o ambiente da seguinte forma:\n",
        "\n",
        "1. Número de Linhas: 4\n",
        "2. Número de Colunas: 4\n",
        "3. Peças brancas: 4 peças iniciadas na linha 1\n",
        "4. Peças pretas: 4 peças iniciadas na linha 4.\n",
        "\n",
        "Em outras palavras, o tabuleiro será:"
      ]
    },
    {
      "cell_type": "code",
      "execution_count": 28,
      "metadata": {
        "colab": {
          "base_uri": "https://localhost:8080/",
          "height": 217
        },
        "id": "2yBuq-bZmq7N",
        "outputId": "0ec1b488-7848-414b-c025-48596d362df1"
      },
      "outputs": [
        {
          "data": {
            "image/png": "[encoded data removed]",
            "text/plain": [
              "<PIL.Image.Image image mode=RGB size=200x200>"
            ]
          },
          "execution_count": 28,
          "metadata": {},
          "output_type": "execute_result"
        }
      ],
      "source": [
        "## Tabuleiro\n",
        "lines = 4\n",
        "columns = 4\n",
        "white_positions = ((1,1),(1,2),(1,3),(1,4))\n",
        "black_positions = ((4,1),(4,2), (4,3),(4,4))\n",
        "bkt.draw_board(lines, columns, white_positions, black_positions)"
      ]
    },
    {
      "cell_type": "markdown",
      "metadata": {
        "id": "qmm0tmMVnT3g"
      },
      "source": [
        "# Forma de Avaliação\n",
        "\n",
        "Você será avaliado por conseguir realizar seguintes itens:\n",
        "\n",
        "1. Consegue responder qual a distribuição de vitórias e derrotas quando jogadores sem nenhum tipo de conhecimento são colocados para competir entre si.\n",
        "2. Consegue representar os tabuleiros como estados em alguma estrutura de dados para depois computar state-values.\n",
        "3. Consegue usar uma partida entre dois jogadores como entrada para computar o valor acumulado descontado seguindo a lógica de Monte Carlo.\n",
        "4. Consegue atualizar os state-values de forma satisfatória.\n",
        "5. Consegue gerar uma política a partir dos state-values. Essa política não precisa estar explícita em uma variável, mas deve ser usada pelo seu jogador inteligente.\n",
        "6. Consegue fazer com que o jogador inteligente mude a distribuição de vitórias e derrotas obtidas no item 1.\n",
        "7. Consegue realizar uma partida contra o seu próprio jogador inteligente e mostrar que o seu jogador inteligente faz jogadas decentes."
      ]
    },
    {
      "cell_type": "code",
      "execution_count": 29,
      "metadata": {
        "colab": {
          "base_uri": "https://localhost:8080/"
        },
        "id": "8E6Mh7pdZPFZ",
        "outputId": "8f93dece-0bfc-4c4a-f8a7-f740f261ff93"
      },
      "outputs": [
        {
          "name": "stdout",
          "output_type": "stream",
          "text": [
            "P1 (Brancas) = 538, P2 (Pretas) = 462\n"
          ]
        }
      ],
      "source": [
        "def campeonato(player1, player2, num_games = 1000) :\n",
        "    results = [0,0,0]\n",
        "    for i in range(num_games) :\n",
        "        result, history = bkt.game(player1, player2)\n",
        "        results[result] += 1\n",
        "    return tuple(results[1:]) # Removendo o primeiro valor pois ele indica partidas não terminadas e o BKT sempre acaba!\n",
        "\n",
        "\n",
        "results = campeonato(player, player, 1000)\n",
        "print(\"P1 (Brancas) = %i, P2 (Pretas) = %i\" % results)"
      ]
    },
    {
      "cell_type": "code",
      "execution_count": 30,
      "metadata": {
        "colab": {
          "base_uri": "https://localhost:8080/"
        },
        "id": "WferrTNvfDLo",
        "outputId": "4d3e6846-4d30-4775-8f51-305008bf9ba7"
      },
      "outputs": [
        {
          "data": {
            "text/plain": [
              "{(((1, 1), (1, 2), (1, 3), (1, 4)), ((4, 1), (4, 2), (4, 3), (4, 4))): 0.5}"
            ]
          },
          "execution_count": 30,
          "metadata": {},
          "output_type": "execute_result"
        }
      ],
      "source": [
        "# Inicializando valores dos estados\n",
        "state_values = {}\n",
        "\n",
        "# Representação inicial\n",
        "initial_state = white_positions, black_positions\n",
        "\n",
        "default_initial_value = 0  # Valor neutro inicial (ex: probabilidade 50% de vitória) TODO ou usar 0?\n",
        "\n",
        "# Associando um valor inicial ao estado\n",
        "state_values[initial_state] = default_initial_value\n",
        "state_values"
      ]
    },
    {
      "cell_type": "code",
      "execution_count": 61,
      "metadata": {},
      "outputs": [],
      "source": [
        "# Bibliotecas necessárias\n",
        "import random\n",
        "\n",
        "# Parâmetros de aprendizado\n",
        "gamma = 0.9  # Fator de desconto\n",
        "alpha = 0.2  # Taxa de aprendizado\n",
        "\n",
        "# Inicialização do dicionário de valores de estado\n",
        "state_values = {}\n",
        "\n",
        "# Função de recompensa\n",
        "def rewards(lines, columns, next_white_positions, next_black_positions, turn):\n",
        "    # Recompensa adicional baseada na proximidade ao objetivo\n",
        "    proximity_reward = 0\n",
        "\n",
        "    if turn == 1:  # Jogador branco\n",
        "        for white_piece in next_white_positions:\n",
        "            row, _ = white_piece\n",
        "            proximity_reward += row / lines\n",
        "    else:  # Jogador preto\n",
        "        for black_piece in next_black_positions:\n",
        "            row, _ = black_piece\n",
        "            proximity_reward += (lines - row) / lines\n",
        "\n",
        "    total_pieces = len(next_white_positions) + len(next_black_positions)\n",
        "    proximity_reward /= total_pieces\n",
        "    \n",
        "    lwinner = bkt.winner(lines, columns, next_white_positions, next_black_positions)\n",
        "    if lwinner == 1:  # Vitória das brancas\n",
        "        return 10 + proximity_reward\n",
        "    elif lwinner == -1:  # Vitória das pretas\n",
        "        return -10 - proximity_reward\n",
        "    elif lwinner == 0:  # Jogo em andamento\n",
        "        return turn * proximity_reward\n",
        "\n",
        "# Função para atualizar valores de estado\n",
        "def update_state_values(history):\n",
        "    G = 0  # Recompensa acumulada\n",
        "    for turn, white_positions, black_positions in reversed(history):\n",
        "        next_white_positions = white_positions\n",
        "        next_black_positions = black_positions\n",
        "\n",
        "        G = gamma * G + rewards(lines, columns, next_white_positions, next_black_positions, turn)\n",
        "\n",
        "        state_key = (tuple(white_positions), tuple(black_positions))\n",
        "        if state_key not in state_values:\n",
        "            state_values[state_key] = default_initial_value\n",
        "        state_values[state_key] += alpha * (G - state_values[state_key])\n",
        "\n",
        "# Função inteligente do jogador\n",
        "def intelligent_player(lines, columns, white_positions, black_positions, turn, epsilon=0):\n",
        "    state_key = (tuple(white_positions), tuple(black_positions))\n",
        "\n",
        "    valid_moves = bkt.get_valid_moves(lines, columns, white_positions, black_positions, turn)\n",
        "    if not valid_moves:\n",
        "        return None\n",
        "\n",
        "    if random.random() < epsilon:\n",
        "        return random.choice(valid_moves)\n",
        "    else:\n",
        "        scores = []\n",
        "        for move in valid_moves:\n",
        "            origem, destino = move\n",
        "            next_white_positions = list(white_positions)\n",
        "            next_black_positions = list(black_positions)\n",
        "\n",
        "            if turn == 1:\n",
        "                next_white_positions.remove(origem)\n",
        "                next_white_positions.append(destino)\n",
        "                if destino in black_positions:\n",
        "                    next_black_positions.remove(destino)\n",
        "            else:\n",
        "                next_black_positions.remove(origem)\n",
        "                next_black_positions.append(destino)\n",
        "                if destino in white_positions:\n",
        "                    next_white_positions.remove(destino)\n",
        "\n",
        "            next_state_key = (tuple(next_white_positions), tuple(next_black_positions))\n",
        "            reward = rewards(lines, columns, next_white_positions, next_black_positions, turn)\n",
        "            state_value = reward + gamma * state_values.get(next_state_key, 0)\n",
        "            scores.append(state_value)\n",
        "\n",
        "        best_score = max(scores) if turn == 1 else min(scores)\n",
        "        best_moves = [valid_moves[i] for i, score in enumerate(scores) if score == best_score]\n",
        "        return random.choice(best_moves)"
      ]
    },
    {
      "cell_type": "code",
      "execution_count": 62,
      "metadata": {},
      "outputs": [],
      "source": [
        "num_games = 10000  # Número de jogos para aprender\n",
        "\n",
        "state_values = {}  # Reinicializa os valores dos estados\n",
        "\n",
        "# Função principal para jogar os jogos\n",
        "def play_games(num_games):\n",
        "    for i in range(num_games):\n",
        "        # Probabilidade de escolha aleatória (exploração)\n",
        "        epsilon = max(0.01, (num_games - i)/num_games)\n",
        "\n",
        "        # Joga a partida\n",
        "        winner, history = bkt.game(player1=intelligent_player, player2=intelligent_player, lines=lines, columns=columns, white_positions=white_positions, black_positions=black_positions, epsilon = epsilon)\n",
        "        # Atualiza os valores dos estados\n",
        "        update_state_values(history)\n",
        "\n",
        "play_games(num_games)"
      ]
    },
    {
      "cell_type": "code",
      "execution_count": 63,
      "metadata": {},
      "outputs": [
        {
          "name": "stdout",
          "output_type": "stream",
          "text": [
            "Aleatório contra aleatório: P1 (Brancas) = 558, P2 (Pretas) = 442\n",
            "Inteligente contra aleatório: P1 (Brancas) = 981, P2 (Pretas) = 19\n",
            "Aleatório contra inteligente: P1 (Brancas) = 40, P2 (Pretas) = 960\n"
          ]
        }
      ],
      "source": [
        "results = campeonato(player, player, 1000)\n",
        "print(\"Aleatório contra aleatório: P1 (Brancas) = %i, P2 (Pretas) = %i\" % results)\n",
        "\n",
        "results = campeonato(intelligent_player, player, 1000)\n",
        "print(\"Inteligente contra aleatório: P1 (Brancas) = %i, P2 (Pretas) = %i\" % results)\n",
        "\n",
        "results = campeonato(player, intelligent_player, 1000)\n",
        "print(\"Aleatório contra inteligente: P1 (Brancas) = %i, P2 (Pretas) = %i\" % results)"
      ]
    },
    {
      "cell_type": "code",
      "execution_count": 34,
      "metadata": {},
      "outputs": [
        {
          "data": {
            "image/png": "[encoded data removed]",
            "text/plain": [
              "<PIL.Image.Image image mode=RGB size=200x200>"
            ]
          },
          "metadata": {},
          "output_type": "display_data"
        },
        {
          "name": "stdout",
          "output_type": "stream",
          "text": [
            "Jogue no formato '(origemLine, origemColumn), (destinoLine, destinoColumn)' \n"
          ]
        },
        {
          "ename": "SyntaxError",
          "evalue": "invalid syntax (<string>, line 0)",
          "output_type": "error",
          "traceback": [
            "Traceback \u001b[1;36m(most recent call last)\u001b[0m:\n",
            "\u001b[0m  File \u001b[0;32m~\\AppData\\Local\\Packages\\PythonSoftwareFoundation.Python.3.10_qbz5n2kfra8p0\\LocalCache\\local-packages\\Python310\\site-packages\\IPython\\core\\interactiveshell.py:3577\u001b[0m in \u001b[0;35mrun_code\u001b[0m\n    exec(code_obj, self.user_global_ns, self.user_ns)\u001b[0m\n",
            "\u001b[0m  Cell \u001b[0;32mIn[34], line 1\u001b[0m\n    result, history = bkt.game(intelligent_player, bkt.human_player)\u001b[0m\n",
            "\u001b[0m  File \u001b[0;32md:\\Bruno\\Documents\\GitHub\\tt003\\trabalho02\\breakthrough.py:215\u001b[0m in \u001b[0;35mgame\u001b[0m\n    origem, destino = player2(lines, columns, white_positions, black_positions, turn)\u001b[0m\n",
            "\u001b[1;36m  File \u001b[1;32md:\\Bruno\\Documents\\GitHub\\tt003\\trabalho02\\breakthrough.py:164\u001b[1;36m in \u001b[1;35mhuman_player\u001b[1;36m\n\u001b[1;33m    origem, destino = eval(input())\u001b[1;36m\n",
            "\u001b[1;36m  File \u001b[1;32m<string>\u001b[1;36m\u001b[0m\n\u001b[1;33m    \u001b[0m\n\u001b[1;37m    ^\u001b[0m\n\u001b[1;31mSyntaxError\u001b[0m\u001b[1;31m:\u001b[0m invalid syntax\n"
          ]
        }
      ],
      "source": [
        "result, history = bkt.game(intelligent_player, bkt.human_player)\n",
        "if result == 1:\n",
        "    print(\"Você perdeu!\")\n",
        "elif result == -1:\n",
        "    print(\"Você ganhou!\")"
      ]
    }
  ],
  "metadata": {
    "colab": {
      "provenance": []
    },
    "kernelspec": {
      "display_name": "Python 3",
      "name": "python3"
    },
    "language_info": {
      "codemirror_mode": {
        "name": "ipython",
        "version": 3
      },
      "file_extension": ".py",
      "mimetype": "text/x-python",
      "name": "python",
      "nbconvert_exporter": "python",
      "pygments_lexer": "ipython3",
      "version": "3.10.11"
    },
    "widgets": {
      "application/vnd.jupyter.widget-state+json": {
        "16d5312c2b774c1f82185ef4fce5080a": {
          "model_module": "@jupyter-widgets/base",
          "model_module_version": "1.2.0",
          "model_name": "LayoutModel",
          "state": {
            "_model_module": "@jupyter-widgets/base",
            "_model_module_version": "1.2.0",
            "_model_name": "LayoutModel",
            "_view_count": null,
            "_view_module": "@jupyter-widgets/base",
            "_view_module_version": "1.2.0",
            "_view_name": "LayoutView",
            "align_content": null,
            "align_items": null,
            "align_self": null,
            "border": null,
            "bottom": null,
            "display": null,
            "flex": null,
            "flex_flow": null,
            "grid_area": null,
            "grid_auto_columns": null,
            "grid_auto_flow": null,
            "grid_auto_rows": null,
            "grid_column": null,
            "grid_gap": null,
            "grid_row": null,
            "grid_template_areas": null,
            "grid_template_columns": null,
            "grid_template_rows": null,
            "height": null,
            "justify_content": null,
            "justify_items": null,
            "left": null,
            "margin": null,
            "max_height": null,
            "max_width": null,
            "min_height": null,
            "min_width": null,
            "object_fit": null,
            "object_position": null,
            "order": null,
            "overflow": null,
            "overflow_x": null,
            "overflow_y": null,
            "padding": null,
            "right": null,
            "top": null,
            "visibility": null,
            "width": null
          }
        },
        "666ad76c7b7e4d8e9efabe541825d0bc": {
          "model_module": "@jupyter-widgets/base",
          "model_module_version": "1.2.0",
          "model_name": "LayoutModel",
          "state": {
            "_model_module": "@jupyter-widgets/base",
            "_model_module_version": "1.2.0",
            "_model_name": "LayoutModel",
            "_view_count": null,
            "_view_module": "@jupyter-widgets/base",
            "_view_module_version": "1.2.0",
            "_view_name": "LayoutView",
            "align_content": null,
            "align_items": null,
            "align_self": null,
            "border": null,
            "bottom": null,
            "display": null,
            "flex": null,
            "flex_flow": null,
            "grid_area": null,
            "grid_auto_columns": null,
            "grid_auto_flow": null,
            "grid_auto_rows": null,
            "grid_column": null,
            "grid_gap": null,
            "grid_row": null,
            "grid_template_areas": null,
            "grid_template_columns": null,
            "grid_template_rows": null,
            "height": null,
            "justify_content": null,
            "justify_items": null,
            "left": null,
            "margin": null,
            "max_height": null,
            "max_width": null,
            "min_height": null,
            "min_width": null,
            "object_fit": null,
            "object_position": null,
            "order": null,
            "overflow": null,
            "overflow_x": null,
            "overflow_y": null,
            "padding": null,
            "right": null,
            "top": null,
            "visibility": null,
            "width": null
          }
        },
        "78672419cad84f899ae5ea61775a0f00": {
          "model_module": "@jupyter-widgets/base",
          "model_module_version": "1.2.0",
          "model_name": "LayoutModel",
          "state": {
            "_model_module": "@jupyter-widgets/base",
            "_model_module_version": "1.2.0",
            "_model_name": "LayoutModel",
            "_view_count": null,
            "_view_module": "@jupyter-widgets/base",
            "_view_module_version": "1.2.0",
            "_view_name": "LayoutView",
            "align_content": null,
            "align_items": null,
            "align_self": null,
            "border": null,
            "bottom": null,
            "display": null,
            "flex": null,
            "flex_flow": null,
            "grid_area": null,
            "grid_auto_columns": null,
            "grid_auto_flow": null,
            "grid_auto_rows": null,
            "grid_column": null,
            "grid_gap": null,
            "grid_row": null,
            "grid_template_areas": null,
            "grid_template_columns": null,
            "grid_template_rows": null,
            "height": null,
            "justify_content": null,
            "justify_items": null,
            "left": null,
            "margin": null,
            "max_height": null,
            "max_width": null,
            "min_height": null,
            "min_width": null,
            "object_fit": null,
            "object_position": null,
            "order": null,
            "overflow": null,
            "overflow_x": null,
            "overflow_y": null,
            "padding": null,
            "right": null,
            "top": null,
            "visibility": null,
            "width": null
          }
        },
        "7bbc870b265c41bcafa8a0570508b1fc": {
          "model_module": "@jupyter-widgets/base",
          "model_module_version": "1.2.0",
          "model_name": "LayoutModel",
          "state": {
            "_model_module": "@jupyter-widgets/base",
            "_model_module_version": "1.2.0",
            "_model_name": "LayoutModel",
            "_view_count": null,
            "_view_module": "@jupyter-widgets/base",
            "_view_module_version": "1.2.0",
            "_view_name": "LayoutView",
            "align_content": null,
            "align_items": null,
            "align_self": null,
            "border": null,
            "bottom": null,
            "display": null,
            "flex": null,
            "flex_flow": null,
            "grid_area": null,
            "grid_auto_columns": null,
            "grid_auto_flow": null,
            "grid_auto_rows": null,
            "grid_column": null,
            "grid_gap": null,
            "grid_row": null,
            "grid_template_areas": null,
            "grid_template_columns": null,
            "grid_template_rows": null,
            "height": null,
            "justify_content": null,
            "justify_items": null,
            "left": null,
            "margin": null,
            "max_height": null,
            "max_width": null,
            "min_height": null,
            "min_width": null,
            "object_fit": null,
            "object_position": null,
            "order": null,
            "overflow": null,
            "overflow_x": null,
            "overflow_y": null,
            "padding": null,
            "right": null,
            "top": null,
            "visibility": null,
            "width": null
          }
        },
        "8152b842a8dc43fc9f10b0d238d7d5b0": {
          "model_module": "@jupyter-widgets/controls",
          "model_module_version": "1.5.0",
          "model_name": "IntSliderModel",
          "state": {
            "_dom_classes": [],
            "_model_module": "@jupyter-widgets/controls",
            "_model_module_version": "1.5.0",
            "_model_name": "IntSliderModel",
            "_view_count": null,
            "_view_module": "@jupyter-widgets/controls",
            "_view_module_version": "1.5.0",
            "_view_name": "IntSliderView",
            "continuous_update": true,
            "description": "frame",
            "description_tooltip": null,
            "disabled": false,
            "layout": "IPY_MODEL_f1abb6cdbdbd4bb49298de946d85a38f",
            "max": 19,
            "min": 0,
            "orientation": "horizontal",
            "readout": true,
            "readout_format": "d",
            "step": 1,
            "style": "IPY_MODEL_bd3eb8947b2d4eee8d9cb10e1297e6ae",
            "value": 9
          }
        },
        "8e73194f31e944739ce138abf7b73c86": {
          "model_module": "@jupyter-widgets/output",
          "model_module_version": "1.0.0",
          "model_name": "OutputModel",
          "state": {
            "_dom_classes": [],
            "_model_module": "@jupyter-widgets/output",
            "_model_module_version": "1.0.0",
            "_model_name": "OutputModel",
            "_view_count": null,
            "_view_module": "@jupyter-widgets/output",
            "_view_module_version": "1.0.0",
            "_view_name": "OutputView",
            "layout": "IPY_MODEL_666ad76c7b7e4d8e9efabe541825d0bc",
            "msg_id": "",
            "outputs": [
              {
                "data": {
                  "image/jpeg": "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\n",
                  "image/png": "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\n",
                  "text/plain": "<PIL.Image.Image image mode=RGB size=200x200>"
                },
                "metadata": {},
                "output_type": "display_data"
              }
            ]
          }
        },
        "90e17447283644288dbc4438cc0104da": {
          "model_module": "@jupyter-widgets/base",
          "model_module_version": "1.2.0",
          "model_name": "LayoutModel",
          "state": {
            "_model_module": "@jupyter-widgets/base",
            "_model_module_version": "1.2.0",
            "_model_name": "LayoutModel",
            "_view_count": null,
            "_view_module": "@jupyter-widgets/base",
            "_view_module_version": "1.2.0",
            "_view_name": "LayoutView",
            "align_content": null,
            "align_items": null,
            "align_self": null,
            "border": null,
            "bottom": null,
            "display": null,
            "flex": null,
            "flex_flow": null,
            "grid_area": null,
            "grid_auto_columns": null,
            "grid_auto_flow": null,
            "grid_auto_rows": null,
            "grid_column": null,
            "grid_gap": null,
            "grid_row": null,
            "grid_template_areas": null,
            "grid_template_columns": null,
            "grid_template_rows": null,
            "height": null,
            "justify_content": null,
            "justify_items": null,
            "left": null,
            "margin": null,
            "max_height": null,
            "max_width": null,
            "min_height": null,
            "min_width": null,
            "object_fit": null,
            "object_position": null,
            "order": null,
            "overflow": null,
            "overflow_x": null,
            "overflow_y": null,
            "padding": null,
            "right": null,
            "top": null,
            "visibility": null,
            "width": null
          }
        },
        "9379d02a2b534c3d95fffd04d596340d": {
          "model_module": "@jupyter-widgets/controls",
          "model_module_version": "1.5.0",
          "model_name": "SliderStyleModel",
          "state": {
            "_model_module": "@jupyter-widgets/controls",
            "_model_module_version": "1.5.0",
            "_model_name": "SliderStyleModel",
            "_view_count": null,
            "_view_module": "@jupyter-widgets/base",
            "_view_module_version": "1.2.0",
            "_view_name": "StyleView",
            "description_width": "",
            "handle_color": null
          }
        },
        "9bdcc9fb8e4a4e81b0158b852ef4b6d9": {
          "model_module": "@jupyter-widgets/output",
          "model_module_version": "1.0.0",
          "model_name": "OutputModel",
          "state": {
            "_dom_classes": [],
            "_model_module": "@jupyter-widgets/output",
            "_model_module_version": "1.0.0",
            "_model_name": "OutputModel",
            "_view_count": null,
            "_view_module": "@jupyter-widgets/output",
            "_view_module_version": "1.0.0",
            "_view_name": "OutputView",
            "layout": "IPY_MODEL_16d5312c2b774c1f82185ef4fce5080a",
            "msg_id": "",
            "outputs": [
              {
                "data": {
                  "image/jpeg": "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\n",
                  "image/png": "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\n",
                  "text/plain": "<PIL.Image.Image image mode=RGB size=200x200>"
                },
                "metadata": {},
                "output_type": "display_data"
              }
            ]
          }
        },
        "a97479b2cfcc462e98f7575237c5764b": {
          "model_module": "@jupyter-widgets/controls",
          "model_module_version": "1.5.0",
          "model_name": "IntSliderModel",
          "state": {
            "_dom_classes": [],
            "_model_module": "@jupyter-widgets/controls",
            "_model_module_version": "1.5.0",
            "_model_name": "IntSliderModel",
            "_view_count": null,
            "_view_module": "@jupyter-widgets/controls",
            "_view_module_version": "1.5.0",
            "_view_name": "IntSliderView",
            "continuous_update": true,
            "description": "frame",
            "description_tooltip": null,
            "disabled": false,
            "layout": "IPY_MODEL_90e17447283644288dbc4438cc0104da",
            "max": 5,
            "min": 0,
            "orientation": "horizontal",
            "readout": true,
            "readout_format": "d",
            "step": 1,
            "style": "IPY_MODEL_9379d02a2b534c3d95fffd04d596340d",
            "value": 2
          }
        },
        "bd3eb8947b2d4eee8d9cb10e1297e6ae": {
          "model_module": "@jupyter-widgets/controls",
          "model_module_version": "1.5.0",
          "model_name": "SliderStyleModel",
          "state": {
            "_model_module": "@jupyter-widgets/controls",
            "_model_module_version": "1.5.0",
            "_model_name": "SliderStyleModel",
            "_view_count": null,
            "_view_module": "@jupyter-widgets/base",
            "_view_module_version": "1.2.0",
            "_view_name": "StyleView",
            "description_width": "",
            "handle_color": null
          }
        },
        "e8fd93dffd7a4cbb87506239cbc0b5a3": {
          "model_module": "@jupyter-widgets/controls",
          "model_module_version": "1.5.0",
          "model_name": "VBoxModel",
          "state": {
            "_dom_classes": [
              "widget-interact"
            ],
            "_model_module": "@jupyter-widgets/controls",
            "_model_module_version": "1.5.0",
            "_model_name": "VBoxModel",
            "_view_count": null,
            "_view_module": "@jupyter-widgets/controls",
            "_view_module_version": "1.5.0",
            "_view_name": "VBoxView",
            "box_style": "",
            "children": [
              "IPY_MODEL_a97479b2cfcc462e98f7575237c5764b",
              "IPY_MODEL_9bdcc9fb8e4a4e81b0158b852ef4b6d9"
            ],
            "layout": "IPY_MODEL_7bbc870b265c41bcafa8a0570508b1fc"
          }
        },
        "f0ab227d674d4eb89cdca51d2e183336": {
          "model_module": "@jupyter-widgets/controls",
          "model_module_version": "1.5.0",
          "model_name": "VBoxModel",
          "state": {
            "_dom_classes": [
              "widget-interact"
            ],
            "_model_module": "@jupyter-widgets/controls",
            "_model_module_version": "1.5.0",
            "_model_name": "VBoxModel",
            "_view_count": null,
            "_view_module": "@jupyter-widgets/controls",
            "_view_module_version": "1.5.0",
            "_view_name": "VBoxView",
            "box_style": "",
            "children": [
              "IPY_MODEL_8152b842a8dc43fc9f10b0d238d7d5b0",
              "IPY_MODEL_8e73194f31e944739ce138abf7b73c86"
            ],
            "layout": "IPY_MODEL_78672419cad84f899ae5ea61775a0f00"
          }
        },
        "f1abb6cdbdbd4bb49298de946d85a38f": {
          "model_module": "@jupyter-widgets/base",
          "model_module_version": "1.2.0",
          "model_name": "LayoutModel",
          "state": {
            "_model_module": "@jupyter-widgets/base",
            "_model_module_version": "1.2.0",
            "_model_name": "LayoutModel",
            "_view_count": null,
            "_view_module": "@jupyter-widgets/base",
            "_view_module_version": "1.2.0",
            "_view_name": "LayoutView",
            "align_content": null,
            "align_items": null,
            "align_self": null,
            "border": null,
            "bottom": null,
            "display": null,
            "flex": null,
            "flex_flow": null,
            "grid_area": null,
            "grid_auto_columns": null,
            "grid_auto_flow": null,
            "grid_auto_rows": null,
            "grid_column": null,
            "grid_gap": null,
            "grid_row": null,
            "grid_template_areas": null,
            "grid_template_columns": null,
            "grid_template_rows": null,
            "height": null,
            "justify_content": null,
            "justify_items": null,
            "left": null,
            "margin": null,
            "max_height": null,
            "max_width": null,
            "min_height": null,
            "min_width": null,
            "object_fit": null,
            "object_position": null,
            "order": null,
            "overflow": null,
            "overflow_x": null,
            "overflow_y": null,
            "padding": null,
            "right": null,
            "top": null,
            "visibility": null,
            "width": null
          }
        }
      }
    }
  },
  "nbformat": 4,
  "nbformat_minor": 0
}
